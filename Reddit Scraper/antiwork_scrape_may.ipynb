{
 "cells": [
  {
   "cell_type": "code",
   "execution_count": 1,
   "metadata": {},
   "outputs": [],
   "source": [
    "import pandas as pd\n",
    "import pmaw\n",
    "from datetime import datetime\n",
    "from pmaw import PushshiftAPI"
   ]
  },
  {
   "cell_type": "code",
   "execution_count": 2,
   "metadata": {},
   "outputs": [],
   "source": [
    "subred_list = [\"antiwork\"]\n",
    "fields = [\"subreddit\", \"subreddit_subscribers\", \"title\", \"id\", \"author\", \n",
    "            \"created_utc\", \"num_comments\", \"score\", \"selftext\", \"url\", \"upvote_ratio\"]\n",
    "\n",
    "# Change start end end dates to scrape data from\n",
    "start = int(datetime(2021,5,1,0,0).timestamp())\n",
    "end = int(datetime(2021,5,31,23,59).timestamp())"
   ]
  },
  {
   "cell_type": "code",
   "execution_count": 3,
   "metadata": {},
   "outputs": [
    {
     "data": {
      "text/html": [
       "<div>\n",
       "<style scoped>\n",
       "    .dataframe tbody tr th:only-of-type {\n",
       "        vertical-align: middle;\n",
       "    }\n",
       "\n",
       "    .dataframe tbody tr th {\n",
       "        vertical-align: top;\n",
       "    }\n",
       "\n",
       "    .dataframe thead th {\n",
       "        text-align: right;\n",
       "    }\n",
       "</style>\n",
       "<table border=\"1\" class=\"dataframe\">\n",
       "  <thead>\n",
       "    <tr style=\"text-align: right;\">\n",
       "      <th></th>\n",
       "      <th>author</th>\n",
       "      <th>created_utc</th>\n",
       "      <th>id</th>\n",
       "      <th>num_comments</th>\n",
       "      <th>score</th>\n",
       "      <th>selftext</th>\n",
       "      <th>subreddit</th>\n",
       "      <th>subreddit_subscribers</th>\n",
       "      <th>title</th>\n",
       "      <th>upvote_ratio</th>\n",
       "      <th>url</th>\n",
       "    </tr>\n",
       "  </thead>\n",
       "  <tbody>\n",
       "    <tr>\n",
       "      <th>0</th>\n",
       "      <td>LifeisDepressing555</td>\n",
       "      <td>1620601828</td>\n",
       "      <td>n8q3ea</td>\n",
       "      <td>0</td>\n",
       "      <td>1</td>\n",
       "      <td>It's coming, and it will come the next week, t...</td>\n",
       "      <td>antiwork</td>\n",
       "      <td>299730</td>\n",
       "      <td>Do you feel it? The dread of Monday knowing it...</td>\n",
       "      <td>1.0</td>\n",
       "      <td>https://www.reddit.com/r/antiwork/comments/n8q...</td>\n",
       "    </tr>\n",
       "    <tr>\n",
       "      <th>1</th>\n",
       "      <td>Giogiogio2020</td>\n",
       "      <td>1620601284</td>\n",
       "      <td>n8pxao</td>\n",
       "      <td>1</td>\n",
       "      <td>1</td>\n",
       "      <td>Countries are run just like corporations. They...</td>\n",
       "      <td>antiwork</td>\n",
       "      <td>299719</td>\n",
       "      <td>Never forget this one truth</td>\n",
       "      <td>1.0</td>\n",
       "      <td>https://www.reddit.com/r/antiwork/comments/n8p...</td>\n",
       "    </tr>\n",
       "    <tr>\n",
       "      <th>2</th>\n",
       "      <td>thomasyaiuyi7876</td>\n",
       "      <td>1620600826</td>\n",
       "      <td>n8prry</td>\n",
       "      <td>3</td>\n",
       "      <td>1</td>\n",
       "      <td></td>\n",
       "      <td>antiwork</td>\n",
       "      <td>299706</td>\n",
       "      <td>US Economy is a casino</td>\n",
       "      <td>1.0</td>\n",
       "      <td>https://i.redd.it/6xc3y6n9szd61.jpg</td>\n",
       "    </tr>\n",
       "    <tr>\n",
       "      <th>3</th>\n",
       "      <td>rgiersio87787678</td>\n",
       "      <td>1620600664</td>\n",
       "      <td>n8ppzw</td>\n",
       "      <td>5</td>\n",
       "      <td>1</td>\n",
       "      <td></td>\n",
       "      <td>antiwork</td>\n",
       "      <td>299697</td>\n",
       "      <td>The first Amazon employee to take a break from...</td>\n",
       "      <td>1.0</td>\n",
       "      <td>https://i.redd.it/1u8pbhemsuf61.png</td>\n",
       "    </tr>\n",
       "    <tr>\n",
       "      <th>4</th>\n",
       "      <td>lauronyiyui87678</td>\n",
       "      <td>1620600619</td>\n",
       "      <td>n8ppii</td>\n",
       "      <td>31</td>\n",
       "      <td>1</td>\n",
       "      <td></td>\n",
       "      <td>antiwork</td>\n",
       "      <td>299697</td>\n",
       "      <td>We need to stop glamourizing overworking. The ...</td>\n",
       "      <td>1.0</td>\n",
       "      <td>https://i.redd.it/wxt33f2q6uz51.jpg</td>\n",
       "    </tr>\n",
       "  </tbody>\n",
       "</table>\n",
       "</div>"
      ],
      "text/plain": [
       "                author  created_utc      id  num_comments  score  \\\n",
       "0  LifeisDepressing555   1620601828  n8q3ea             0      1   \n",
       "1        Giogiogio2020   1620601284  n8pxao             1      1   \n",
       "2     thomasyaiuyi7876   1620600826  n8prry             3      1   \n",
       "3     rgiersio87787678   1620600664  n8ppzw             5      1   \n",
       "4     lauronyiyui87678   1620600619  n8ppii            31      1   \n",
       "\n",
       "                                            selftext subreddit  \\\n",
       "0  It's coming, and it will come the next week, t...  antiwork   \n",
       "1  Countries are run just like corporations. They...  antiwork   \n",
       "2                                                     antiwork   \n",
       "3                                                     antiwork   \n",
       "4                                                     antiwork   \n",
       "\n",
       "   subreddit_subscribers                                              title  \\\n",
       "0                 299730  Do you feel it? The dread of Monday knowing it...   \n",
       "1                 299719                        Never forget this one truth   \n",
       "2                 299706                             US Economy is a casino   \n",
       "3                 299697  The first Amazon employee to take a break from...   \n",
       "4                 299697  We need to stop glamourizing overworking. The ...   \n",
       "\n",
       "   upvote_ratio                                                url  \n",
       "0           1.0  https://www.reddit.com/r/antiwork/comments/n8q...  \n",
       "1           1.0  https://www.reddit.com/r/antiwork/comments/n8p...  \n",
       "2           1.0                https://i.redd.it/6xc3y6n9szd61.jpg  \n",
       "3           1.0                https://i.redd.it/1u8pbhemsuf61.png  \n",
       "4           1.0                https://i.redd.it/wxt33f2q6uz51.jpg  "
      ]
     },
     "execution_count": 3,
     "metadata": {},
     "output_type": "execute_result"
    }
   ],
   "source": [
    "reddit = PushshiftAPI()\n",
    "posts = []\n",
    "sub = reddit.search_submissions(subreddit=subred_list, after=start, before=end, fields=fields)\n",
    "submission_df = pd.DataFrame(sub)\n",
    "submission_df.head()"
   ]
  },
  {
   "cell_type": "code",
   "execution_count": 4,
   "metadata": {},
   "outputs": [],
   "source": [
    "may21_df = submission_df"
   ]
  },
  {
   "cell_type": "code",
   "execution_count": 5,
   "metadata": {},
   "outputs": [],
   "source": [
    "# Export _df to csv\n",
    "may21_df.to_csv('may21_df.csv', index=False)"
   ]
  },
  {
   "cell_type": "code",
   "execution_count": null,
   "metadata": {},
   "outputs": [],
   "source": []
  }
 ],
 "metadata": {
  "kernelspec": {
   "display_name": "Python 3 (ipykernel)",
   "language": "python",
   "name": "python3"
  },
  "language_info": {
   "codemirror_mode": {
    "name": "ipython",
    "version": 3
   },
   "file_extension": ".py",
   "mimetype": "text/x-python",
   "name": "python",
   "nbconvert_exporter": "python",
   "pygments_lexer": "ipython3",
   "version": "3.9.12"
  },
  "vscode": {
   "interpreter": {
    "hash": "7c68699890cd1869885a41d08e48385628aade1eb52ad172109298cf9d071a7d"
   }
  }
 },
 "nbformat": 4,
 "nbformat_minor": 2
}
