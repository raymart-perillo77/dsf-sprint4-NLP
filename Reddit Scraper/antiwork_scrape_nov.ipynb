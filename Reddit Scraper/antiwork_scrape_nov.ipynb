{
 "cells": [
  {
   "cell_type": "code",
   "execution_count": 1,
   "metadata": {},
   "outputs": [],
   "source": [
    "import pandas as pd\n",
    "import pmaw\n",
    "from datetime import datetime\n",
    "from pmaw import PushshiftAPI"
   ]
  },
  {
   "cell_type": "code",
   "execution_count": 2,
   "metadata": {},
   "outputs": [],
   "source": [
    "subred_list = [\"antiwork\"]\n",
    "fields = [\"subreddit\", \"subreddit_subscribers\", \"title\", \"id\", \"author\", \n",
    "            \"created_utc\", \"num_comments\", \"score\", \"selftext\", \"url\", \"upvote_ratio\"]\n",
    "\n",
    "# Change start end end dates to scrape data from\n",
    "start = int(datetime(2021,11,1,0,0).timestamp())\n",
    "end = int(datetime(2021,11,30,23,59).timestamp())"
   ]
  },
  {
   "cell_type": "code",
   "execution_count": 3,
   "metadata": {},
   "outputs": [
    {
     "data": {
      "text/html": [
       "<div>\n",
       "<style scoped>\n",
       "    .dataframe tbody tr th:only-of-type {\n",
       "        vertical-align: middle;\n",
       "    }\n",
       "\n",
       "    .dataframe tbody tr th {\n",
       "        vertical-align: top;\n",
       "    }\n",
       "\n",
       "    .dataframe thead th {\n",
       "        text-align: right;\n",
       "    }\n",
       "</style>\n",
       "<table border=\"1\" class=\"dataframe\">\n",
       "  <thead>\n",
       "    <tr style=\"text-align: right;\">\n",
       "      <th></th>\n",
       "      <th>author</th>\n",
       "      <th>created_utc</th>\n",
       "      <th>id</th>\n",
       "      <th>num_comments</th>\n",
       "      <th>score</th>\n",
       "      <th>selftext</th>\n",
       "      <th>subreddit</th>\n",
       "      <th>subreddit_subscribers</th>\n",
       "      <th>title</th>\n",
       "      <th>upvote_ratio</th>\n",
       "      <th>url</th>\n",
       "    </tr>\n",
       "  </thead>\n",
       "  <tbody>\n",
       "    <tr>\n",
       "      <th>0</th>\n",
       "      <td>VanishedNinja</td>\n",
       "      <td>1636214337</td>\n",
       "      <td>qo376p</td>\n",
       "      <td>8</td>\n",
       "      <td>1</td>\n",
       "      <td>I already posted about what happened on anothe...</td>\n",
       "      <td>antiwork</td>\n",
       "      <td>993927</td>\n",
       "      <td>Should I quit or wait a little while longer?</td>\n",
       "      <td>1.0</td>\n",
       "      <td>https://www.reddit.com/r/antiwork/comments/qo3...</td>\n",
       "    </tr>\n",
       "    <tr>\n",
       "      <th>1</th>\n",
       "      <td>BLA1937</td>\n",
       "      <td>1636214277</td>\n",
       "      <td>qo36h0</td>\n",
       "      <td>6</td>\n",
       "      <td>1</td>\n",
       "      <td></td>\n",
       "      <td>antiwork</td>\n",
       "      <td>993925</td>\n",
       "      <td>$0.01 pay check for six weeks work [share]</td>\n",
       "      <td>1.0</td>\n",
       "      <td>https://www.indy100.com/viral/waitress-paid-on...</td>\n",
       "    </tr>\n",
       "    <tr>\n",
       "      <th>2</th>\n",
       "      <td>PeachIvy</td>\n",
       "      <td>1636214249</td>\n",
       "      <td>qo365w</td>\n",
       "      <td>3</td>\n",
       "      <td>1</td>\n",
       "      <td></td>\n",
       "      <td>antiwork</td>\n",
       "      <td>993924</td>\n",
       "      <td>Competitive Salary....</td>\n",
       "      <td>1.0</td>\n",
       "      <td>https://i.redd.it/j01eu93izzx71.jpg</td>\n",
       "    </tr>\n",
       "    <tr>\n",
       "      <th>3</th>\n",
       "      <td>lilith-ness</td>\n",
       "      <td>1636214231</td>\n",
       "      <td>qo35xs</td>\n",
       "      <td>81</td>\n",
       "      <td>1</td>\n",
       "      <td></td>\n",
       "      <td>antiwork</td>\n",
       "      <td>993924</td>\n",
       "      <td>Trickledown economics</td>\n",
       "      <td>1.0</td>\n",
       "      <td>https://i.redd.it/g19j061gzzx71.jpg</td>\n",
       "    </tr>\n",
       "    <tr>\n",
       "      <th>4</th>\n",
       "      <td>DreamStrange3731</td>\n",
       "      <td>1636214221</td>\n",
       "      <td>qo35th</td>\n",
       "      <td>4</td>\n",
       "      <td>1</td>\n",
       "      <td>I recently saw the movie \"In Time\" again.  Whe...</td>\n",
       "      <td>antiwork</td>\n",
       "      <td>993925</td>\n",
       "      <td>\"In Time\" vs money</td>\n",
       "      <td>1.0</td>\n",
       "      <td>https://www.reddit.com/r/antiwork/comments/qo3...</td>\n",
       "    </tr>\n",
       "  </tbody>\n",
       "</table>\n",
       "</div>"
      ],
      "text/plain": [
       "             author  created_utc      id  num_comments  score  \\\n",
       "0     VanishedNinja   1636214337  qo376p             8      1   \n",
       "1           BLA1937   1636214277  qo36h0             6      1   \n",
       "2          PeachIvy   1636214249  qo365w             3      1   \n",
       "3       lilith-ness   1636214231  qo35xs            81      1   \n",
       "4  DreamStrange3731   1636214221  qo35th             4      1   \n",
       "\n",
       "                                            selftext subreddit  \\\n",
       "0  I already posted about what happened on anothe...  antiwork   \n",
       "1                                                     antiwork   \n",
       "2                                                     antiwork   \n",
       "3                                                     antiwork   \n",
       "4  I recently saw the movie \"In Time\" again.  Whe...  antiwork   \n",
       "\n",
       "   subreddit_subscribers                                         title  \\\n",
       "0                 993927  Should I quit or wait a little while longer?   \n",
       "1                 993925    $0.01 pay check for six weeks work [share]   \n",
       "2                 993924                        Competitive Salary....   \n",
       "3                 993924                         Trickledown economics   \n",
       "4                 993925                            \"In Time\" vs money   \n",
       "\n",
       "   upvote_ratio                                                url  \n",
       "0           1.0  https://www.reddit.com/r/antiwork/comments/qo3...  \n",
       "1           1.0  https://www.indy100.com/viral/waitress-paid-on...  \n",
       "2           1.0                https://i.redd.it/j01eu93izzx71.jpg  \n",
       "3           1.0                https://i.redd.it/g19j061gzzx71.jpg  \n",
       "4           1.0  https://www.reddit.com/r/antiwork/comments/qo3...  "
      ]
     },
     "execution_count": 3,
     "metadata": {},
     "output_type": "execute_result"
    }
   ],
   "source": [
    "reddit = PushshiftAPI()\n",
    "posts = []\n",
    "sub = reddit.search_submissions(subreddit=subred_list, after=start, before=end, fields=fields)\n",
    "submission_df = pd.DataFrame(sub)\n",
    "submission_df.head()"
   ]
  },
  {
   "cell_type": "code",
   "execution_count": 4,
   "metadata": {},
   "outputs": [],
   "source": [
    "nov21_df = submission_df"
   ]
  },
  {
   "cell_type": "code",
   "execution_count": 5,
   "metadata": {},
   "outputs": [],
   "source": [
    "# Export _df to csv\n",
    "nov21_df.to_csv('nov21_df.csv', index=False)"
   ]
  },
  {
   "cell_type": "code",
   "execution_count": null,
   "metadata": {},
   "outputs": [],
   "source": []
  }
 ],
 "metadata": {
  "kernelspec": {
   "display_name": "Python 3 (ipykernel)",
   "language": "python",
   "name": "python3"
  },
  "language_info": {
   "codemirror_mode": {
    "name": "ipython",
    "version": 3
   },
   "file_extension": ".py",
   "mimetype": "text/x-python",
   "name": "python",
   "nbconvert_exporter": "python",
   "pygments_lexer": "ipython3",
   "version": "3.9.12"
  },
  "vscode": {
   "interpreter": {
    "hash": "7c68699890cd1869885a41d08e48385628aade1eb52ad172109298cf9d071a7d"
   }
  }
 },
 "nbformat": 4,
 "nbformat_minor": 2
}
