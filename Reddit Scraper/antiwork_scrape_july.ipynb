{
 "cells": [
  {
   "cell_type": "code",
   "execution_count": 2,
   "metadata": {},
   "outputs": [],
   "source": [
    "import pandas as pd\n",
    "import pmaw\n",
    "from datetime import datetime\n",
    "from pmaw import PushshiftAPI"
   ]
  },
  {
   "cell_type": "code",
   "execution_count": 3,
   "metadata": {},
   "outputs": [],
   "source": [
    "subred_list = [\"antiwork\"]\n",
    "fields = [\"subreddit\", \"subreddit_subscribers\", \"title\", \"id\", \"author\", \n",
    "            \"created_utc\", \"num_comments\", \"score\", \"selftext\", \"url\", \"upvote_ratio\"]\n",
    "\n",
    "# Change start end end dates to scrape data from\n",
    "start = int(datetime(2021,7,1,0,0).timestamp())\n",
    "end = int(datetime(2021,7,31,23,59).timestamp())"
   ]
  },
  {
   "cell_type": "code",
   "execution_count": 4,
   "metadata": {},
   "outputs": [
    {
     "data": {
      "text/html": [
       "<div>\n",
       "<style scoped>\n",
       "    .dataframe tbody tr th:only-of-type {\n",
       "        vertical-align: middle;\n",
       "    }\n",
       "\n",
       "    .dataframe tbody tr th {\n",
       "        vertical-align: top;\n",
       "    }\n",
       "\n",
       "    .dataframe thead th {\n",
       "        text-align: right;\n",
       "    }\n",
       "</style>\n",
       "<table border=\"1\" class=\"dataframe\">\n",
       "  <thead>\n",
       "    <tr style=\"text-align: right;\">\n",
       "      <th></th>\n",
       "      <th>author</th>\n",
       "      <th>created_utc</th>\n",
       "      <th>id</th>\n",
       "      <th>num_comments</th>\n",
       "      <th>score</th>\n",
       "      <th>selftext</th>\n",
       "      <th>subreddit</th>\n",
       "      <th>subreddit_subscribers</th>\n",
       "      <th>title</th>\n",
       "      <th>upvote_ratio</th>\n",
       "      <th>url</th>\n",
       "    </tr>\n",
       "  </thead>\n",
       "  <tbody>\n",
       "    <tr>\n",
       "      <th>0</th>\n",
       "      <td>Jetex07</td>\n",
       "      <td>1625604436</td>\n",
       "      <td>of3r88</td>\n",
       "      <td>22</td>\n",
       "      <td>1</td>\n",
       "      <td></td>\n",
       "      <td>antiwork</td>\n",
       "      <td>351254</td>\n",
       "      <td>Sent to the group chat yesterday by my manager</td>\n",
       "      <td>1.0</td>\n",
       "      <td>https://i.redd.it/8rpv6yw2nn971.jpg</td>\n",
       "    </tr>\n",
       "    <tr>\n",
       "      <th>1</th>\n",
       "      <td>SamuraiDarkLord</td>\n",
       "      <td>1625604141</td>\n",
       "      <td>of3nr6</td>\n",
       "      <td>6</td>\n",
       "      <td>1</td>\n",
       "      <td>I work for a state government which is conside...</td>\n",
       "      <td>antiwork</td>\n",
       "      <td>351249</td>\n",
       "      <td>I hate my job. and the supposed \"benefits\"</td>\n",
       "      <td>1.0</td>\n",
       "      <td>https://www.reddit.com/r/antiwork/comments/of3...</td>\n",
       "    </tr>\n",
       "    <tr>\n",
       "      <th>2</th>\n",
       "      <td>9mac</td>\n",
       "      <td>1625604093</td>\n",
       "      <td>of3n8f</td>\n",
       "      <td>2</td>\n",
       "      <td>1</td>\n",
       "      <td></td>\n",
       "      <td>antiwork</td>\n",
       "      <td>351248</td>\n",
       "      <td>Shorter Work Week Leads To Greater Happiness, ...</td>\n",
       "      <td>1.0</td>\n",
       "      <td>https://www.npr.org/2021/07/06/1013348626/icel...</td>\n",
       "    </tr>\n",
       "    <tr>\n",
       "      <th>3</th>\n",
       "      <td>RobotFireEagle</td>\n",
       "      <td>1625603951</td>\n",
       "      <td>of3ljj</td>\n",
       "      <td>10</td>\n",
       "      <td>1</td>\n",
       "      <td></td>\n",
       "      <td>antiwork</td>\n",
       "      <td>351245</td>\n",
       "      <td>Make sure to hide your unhappiness because you...</td>\n",
       "      <td>1.0</td>\n",
       "      <td>/r/LifeProTips/comments/oeqdyv/lpt_keep_your_f...</td>\n",
       "    </tr>\n",
       "    <tr>\n",
       "      <th>4</th>\n",
       "      <td>DankScone</td>\n",
       "      <td>1625603762</td>\n",
       "      <td>of3jbp</td>\n",
       "      <td>2</td>\n",
       "      <td>1</td>\n",
       "      <td></td>\n",
       "      <td>antiwork</td>\n",
       "      <td>351244</td>\n",
       "      <td>Mystereeerious!</td>\n",
       "      <td>1.0</td>\n",
       "      <td>https://i.redd.it/q4qwsf2glm971.png</td>\n",
       "    </tr>\n",
       "  </tbody>\n",
       "</table>\n",
       "</div>"
      ],
      "text/plain": [
       "            author  created_utc      id  num_comments  score  \\\n",
       "0          Jetex07   1625604436  of3r88            22      1   \n",
       "1  SamuraiDarkLord   1625604141  of3nr6             6      1   \n",
       "2             9mac   1625604093  of3n8f             2      1   \n",
       "3   RobotFireEagle   1625603951  of3ljj            10      1   \n",
       "4        DankScone   1625603762  of3jbp             2      1   \n",
       "\n",
       "                                            selftext subreddit  \\\n",
       "0                                                     antiwork   \n",
       "1  I work for a state government which is conside...  antiwork   \n",
       "2                                                     antiwork   \n",
       "3                                                     antiwork   \n",
       "4                                                     antiwork   \n",
       "\n",
       "   subreddit_subscribers                                              title  \\\n",
       "0                 351254     Sent to the group chat yesterday by my manager   \n",
       "1                 351249         I hate my job. and the supposed \"benefits\"   \n",
       "2                 351248  Shorter Work Week Leads To Greater Happiness, ...   \n",
       "3                 351245  Make sure to hide your unhappiness because you...   \n",
       "4                 351244                                    Mystereeerious!   \n",
       "\n",
       "   upvote_ratio                                                url  \n",
       "0           1.0                https://i.redd.it/8rpv6yw2nn971.jpg  \n",
       "1           1.0  https://www.reddit.com/r/antiwork/comments/of3...  \n",
       "2           1.0  https://www.npr.org/2021/07/06/1013348626/icel...  \n",
       "3           1.0  /r/LifeProTips/comments/oeqdyv/lpt_keep_your_f...  \n",
       "4           1.0                https://i.redd.it/q4qwsf2glm971.png  "
      ]
     },
     "execution_count": 4,
     "metadata": {},
     "output_type": "execute_result"
    }
   ],
   "source": [
    "reddit = PushshiftAPI()\n",
    "posts = []\n",
    "sub = reddit.search_submissions(subreddit=subred_list, after=start, before=end, fields=fields)\n",
    "submission_df = pd.DataFrame(sub)\n",
    "submission_df.head()"
   ]
  },
  {
   "cell_type": "code",
   "execution_count": 5,
   "metadata": {},
   "outputs": [],
   "source": [
    "july21_df = submission_df"
   ]
  },
  {
   "cell_type": "code",
   "execution_count": 6,
   "metadata": {},
   "outputs": [],
   "source": [
    "# Export _df to csv\n",
    "july21_df.to_csv('july21_df.csv', index=False)"
   ]
  },
  {
   "cell_type": "code",
   "execution_count": null,
   "metadata": {},
   "outputs": [],
   "source": []
  }
 ],
 "metadata": {
  "kernelspec": {
   "display_name": "Python 3 (ipykernel)",
   "language": "python",
   "name": "python3"
  },
  "language_info": {
   "codemirror_mode": {
    "name": "ipython",
    "version": 3
   },
   "file_extension": ".py",
   "mimetype": "text/x-python",
   "name": "python",
   "nbconvert_exporter": "python",
   "pygments_lexer": "ipython3",
   "version": "3.9.12"
  },
  "vscode": {
   "interpreter": {
    "hash": "7c68699890cd1869885a41d08e48385628aade1eb52ad172109298cf9d071a7d"
   }
  }
 },
 "nbformat": 4,
 "nbformat_minor": 2
}
