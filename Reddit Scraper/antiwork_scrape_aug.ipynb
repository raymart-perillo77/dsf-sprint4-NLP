{
 "cells": [
  {
   "cell_type": "code",
   "execution_count": 1,
   "metadata": {},
   "outputs": [],
   "source": [
    "import pandas as pd\n",
    "import pmaw\n",
    "from datetime import datetime\n",
    "from pmaw import PushshiftAPI"
   ]
  },
  {
   "cell_type": "code",
   "execution_count": 2,
   "metadata": {},
   "outputs": [],
   "source": [
    "subred_list = [\"antiwork\"]\n",
    "fields = [\"subreddit\", \"subreddit_subscribers\", \"title\", \"id\", \"author\", \n",
    "            \"created_utc\", \"num_comments\", \"score\", \"selftext\", \"url\", \"upvote_ratio\"]\n",
    "\n",
    "# Change start end end dates to scrape data from\n",
    "start = int(datetime(2021,8,1,0,0).timestamp())\n",
    "end = int(datetime(2021,8,31,23,59).timestamp())"
   ]
  },
  {
   "cell_type": "code",
   "execution_count": 3,
   "metadata": {},
   "outputs": [
    {
     "data": {
      "text/html": [
       "<div>\n",
       "<style scoped>\n",
       "    .dataframe tbody tr th:only-of-type {\n",
       "        vertical-align: middle;\n",
       "    }\n",
       "\n",
       "    .dataframe tbody tr th {\n",
       "        vertical-align: top;\n",
       "    }\n",
       "\n",
       "    .dataframe thead th {\n",
       "        text-align: right;\n",
       "    }\n",
       "</style>\n",
       "<table border=\"1\" class=\"dataframe\">\n",
       "  <thead>\n",
       "    <tr style=\"text-align: right;\">\n",
       "      <th></th>\n",
       "      <th>author</th>\n",
       "      <th>created_utc</th>\n",
       "      <th>id</th>\n",
       "      <th>num_comments</th>\n",
       "      <th>score</th>\n",
       "      <th>selftext</th>\n",
       "      <th>subreddit</th>\n",
       "      <th>subreddit_subscribers</th>\n",
       "      <th>title</th>\n",
       "      <th>upvote_ratio</th>\n",
       "      <th>url</th>\n",
       "    </tr>\n",
       "  </thead>\n",
       "  <tbody>\n",
       "    <tr>\n",
       "      <th>0</th>\n",
       "      <td>GaolangWongsawat</td>\n",
       "      <td>1628281663</td>\n",
       "      <td>ozeudk</td>\n",
       "      <td>4</td>\n",
       "      <td>1</td>\n",
       "      <td>I started a job as a contractor for a company ...</td>\n",
       "      <td>antiwork</td>\n",
       "      <td>396964</td>\n",
       "      <td>I lasted 2 weeks (12 days to be exact)</td>\n",
       "      <td>1.0</td>\n",
       "      <td>https://www.reddit.com/r/antiwork/comments/oze...</td>\n",
       "    </tr>\n",
       "    <tr>\n",
       "      <th>1</th>\n",
       "      <td>LordofMisrule90</td>\n",
       "      <td>1628281170</td>\n",
       "      <td>ozeons</td>\n",
       "      <td>10</td>\n",
       "      <td>1</td>\n",
       "      <td>It recently came to light at my work that new ...</td>\n",
       "      <td>antiwork</td>\n",
       "      <td>396963</td>\n",
       "      <td>Upset..</td>\n",
       "      <td>1.0</td>\n",
       "      <td>https://www.reddit.com/r/antiwork/comments/oze...</td>\n",
       "    </tr>\n",
       "    <tr>\n",
       "      <th>2</th>\n",
       "      <td>DizzyInkpen</td>\n",
       "      <td>1628280944</td>\n",
       "      <td>ozem8j</td>\n",
       "      <td>2</td>\n",
       "      <td>1</td>\n",
       "      <td></td>\n",
       "      <td>antiwork</td>\n",
       "      <td>396960</td>\n",
       "      <td>Anti-Work artwork, a bit of commiseration for ...</td>\n",
       "      <td>1.0</td>\n",
       "      <td>https://i.redd.it/6f66qwpppsf71.jpg</td>\n",
       "    </tr>\n",
       "    <tr>\n",
       "      <th>3</th>\n",
       "      <td>finalmessiah</td>\n",
       "      <td>1628280432</td>\n",
       "      <td>ozegc5</td>\n",
       "      <td>6</td>\n",
       "      <td>1</td>\n",
       "      <td>\"The company that employed me strived only to ...</td>\n",
       "      <td>antiwork</td>\n",
       "      <td>396960</td>\n",
       "      <td>Thomas Ligotti's vision of what capitalism loo...</td>\n",
       "      <td>1.0</td>\n",
       "      <td>https://www.reddit.com/r/antiwork/comments/oze...</td>\n",
       "    </tr>\n",
       "    <tr>\n",
       "      <th>4</th>\n",
       "      <td>CobblerNo6987</td>\n",
       "      <td>1628279918</td>\n",
       "      <td>ozea5x</td>\n",
       "      <td>0</td>\n",
       "      <td>1</td>\n",
       "      <td>First off, my manager was a total ass so I'm g...</td>\n",
       "      <td>antiwork</td>\n",
       "      <td>396960</td>\n",
       "      <td>Fuck Nordstrom for basically firing me due to ...</td>\n",
       "      <td>1.0</td>\n",
       "      <td>https://www.reddit.com/r/antiwork/comments/oze...</td>\n",
       "    </tr>\n",
       "  </tbody>\n",
       "</table>\n",
       "</div>"
      ],
      "text/plain": [
       "             author  created_utc      id  num_comments  score  \\\n",
       "0  GaolangWongsawat   1628281663  ozeudk             4      1   \n",
       "1   LordofMisrule90   1628281170  ozeons            10      1   \n",
       "2       DizzyInkpen   1628280944  ozem8j             2      1   \n",
       "3      finalmessiah   1628280432  ozegc5             6      1   \n",
       "4     CobblerNo6987   1628279918  ozea5x             0      1   \n",
       "\n",
       "                                            selftext subreddit  \\\n",
       "0  I started a job as a contractor for a company ...  antiwork   \n",
       "1  It recently came to light at my work that new ...  antiwork   \n",
       "2                                                     antiwork   \n",
       "3  \"The company that employed me strived only to ...  antiwork   \n",
       "4  First off, my manager was a total ass so I'm g...  antiwork   \n",
       "\n",
       "   subreddit_subscribers                                              title  \\\n",
       "0                 396964             I lasted 2 weeks (12 days to be exact)   \n",
       "1                 396963                                            Upset..   \n",
       "2                 396960  Anti-Work artwork, a bit of commiseration for ...   \n",
       "3                 396960  Thomas Ligotti's vision of what capitalism loo...   \n",
       "4                 396960  Fuck Nordstrom for basically firing me due to ...   \n",
       "\n",
       "   upvote_ratio                                                url  \n",
       "0           1.0  https://www.reddit.com/r/antiwork/comments/oze...  \n",
       "1           1.0  https://www.reddit.com/r/antiwork/comments/oze...  \n",
       "2           1.0                https://i.redd.it/6f66qwpppsf71.jpg  \n",
       "3           1.0  https://www.reddit.com/r/antiwork/comments/oze...  \n",
       "4           1.0  https://www.reddit.com/r/antiwork/comments/oze...  "
      ]
     },
     "execution_count": 3,
     "metadata": {},
     "output_type": "execute_result"
    }
   ],
   "source": [
    "reddit = PushshiftAPI()\n",
    "posts = []\n",
    "sub = reddit.search_submissions(subreddit=subred_list, after=start, before=end, fields=fields)\n",
    "submission_df = pd.DataFrame(sub)\n",
    "submission_df.head()"
   ]
  },
  {
   "cell_type": "code",
   "execution_count": 4,
   "metadata": {},
   "outputs": [],
   "source": [
    "aug21_df = submission_df"
   ]
  },
  {
   "cell_type": "code",
   "execution_count": 5,
   "metadata": {},
   "outputs": [],
   "source": [
    "# Export _df to csv\n",
    "aug21_df.to_csv('aug21_df.csv', index=False)"
   ]
  },
  {
   "cell_type": "code",
   "execution_count": null,
   "metadata": {},
   "outputs": [],
   "source": []
  }
 ],
 "metadata": {
  "kernelspec": {
   "display_name": "Python 3 (ipykernel)",
   "language": "python",
   "name": "python3"
  },
  "language_info": {
   "codemirror_mode": {
    "name": "ipython",
    "version": 3
   },
   "file_extension": ".py",
   "mimetype": "text/x-python",
   "name": "python",
   "nbconvert_exporter": "python",
   "pygments_lexer": "ipython3",
   "version": "3.9.12"
  },
  "vscode": {
   "interpreter": {
    "hash": "7c68699890cd1869885a41d08e48385628aade1eb52ad172109298cf9d071a7d"
   }
  }
 },
 "nbformat": 4,
 "nbformat_minor": 2
}
