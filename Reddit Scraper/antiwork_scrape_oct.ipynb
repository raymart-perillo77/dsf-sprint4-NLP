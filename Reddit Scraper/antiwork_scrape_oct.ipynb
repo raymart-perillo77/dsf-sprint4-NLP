{
 "cells": [
  {
   "cell_type": "code",
   "execution_count": 9,
   "metadata": {},
   "outputs": [],
   "source": [
    "import pandas as pd\n",
    "import pmaw\n",
    "from datetime import datetime\n",
    "from pmaw import PushshiftAPI"
   ]
  },
  {
   "cell_type": "code",
   "execution_count": 10,
   "metadata": {},
   "outputs": [],
   "source": [
    "subred_list = [\"antiwork\"]\n",
    "fields = [\"subreddit\", \"subreddit_subscribers\", \"title\", \"id\", \"author\", \n",
    "            \"created_utc\", \"num_comments\", \"score\", \"selftext\", \"url\", \"upvote_ratio\"]\n",
    "\n",
    "# Change start end end dates to scrape data from\n",
    "start = int(datetime(2021,10,1,0,0).timestamp())\n",
    "end = int(datetime(2021,10,31,23,59).timestamp())"
   ]
  },
  {
   "cell_type": "code",
   "execution_count": 11,
   "metadata": {},
   "outputs": [
    {
     "data": {
      "text/html": [
       "<div>\n",
       "<style scoped>\n",
       "    .dataframe tbody tr th:only-of-type {\n",
       "        vertical-align: middle;\n",
       "    }\n",
       "\n",
       "    .dataframe tbody tr th {\n",
       "        vertical-align: top;\n",
       "    }\n",
       "\n",
       "    .dataframe thead th {\n",
       "        text-align: right;\n",
       "    }\n",
       "</style>\n",
       "<table border=\"1\" class=\"dataframe\">\n",
       "  <thead>\n",
       "    <tr style=\"text-align: right;\">\n",
       "      <th></th>\n",
       "      <th>author</th>\n",
       "      <th>created_utc</th>\n",
       "      <th>id</th>\n",
       "      <th>num_comments</th>\n",
       "      <th>score</th>\n",
       "      <th>selftext</th>\n",
       "      <th>subreddit</th>\n",
       "      <th>subreddit_subscribers</th>\n",
       "      <th>title</th>\n",
       "      <th>upvote_ratio</th>\n",
       "      <th>url</th>\n",
       "    </tr>\n",
       "  </thead>\n",
       "  <tbody>\n",
       "    <tr>\n",
       "      <th>0</th>\n",
       "      <td>VoiceofRedditMkI</td>\n",
       "      <td>1633552995</td>\n",
       "      <td>q2t2l4</td>\n",
       "      <td>138</td>\n",
       "      <td>0</td>\n",
       "      <td>[removed]</td>\n",
       "      <td>antiwork</td>\n",
       "      <td>525453</td>\n",
       "      <td>Didn't this subreddit use to be about minimisi...</td>\n",
       "      <td>0.38</td>\n",
       "      <td>https://www.reddit.com/r/antiwork/comments/q2t...</td>\n",
       "    </tr>\n",
       "    <tr>\n",
       "      <th>1</th>\n",
       "      <td>adammario6556</td>\n",
       "      <td>1633552456</td>\n",
       "      <td>q2swgr</td>\n",
       "      <td>30</td>\n",
       "      <td>29</td>\n",
       "      <td>What are your thoughts on this? I think someth...</td>\n",
       "      <td>antiwork</td>\n",
       "      <td>525434</td>\n",
       "      <td>I think there should be a legal requirement fo...</td>\n",
       "      <td>0.94</td>\n",
       "      <td>https://www.reddit.com/r/antiwork/comments/q2s...</td>\n",
       "    </tr>\n",
       "    <tr>\n",
       "      <th>2</th>\n",
       "      <td>adocdt</td>\n",
       "      <td>1633552378</td>\n",
       "      <td>q2svl2</td>\n",
       "      <td>14</td>\n",
       "      <td>13</td>\n",
       "      <td>Especially when I don't NEED a job.  \\n\\nI've ...</td>\n",
       "      <td>antiwork</td>\n",
       "      <td>525429</td>\n",
       "      <td>I Forgot How Much I Hate Applying For Jobs</td>\n",
       "      <td>0.93</td>\n",
       "      <td>https://www.reddit.com/r/antiwork/comments/q2s...</td>\n",
       "    </tr>\n",
       "    <tr>\n",
       "      <th>3</th>\n",
       "      <td>[deleted]</td>\n",
       "      <td>1633552031</td>\n",
       "      <td>q2srj4</td>\n",
       "      <td>2</td>\n",
       "      <td>0</td>\n",
       "      <td>[deleted]</td>\n",
       "      <td>antiwork</td>\n",
       "      <td>525422</td>\n",
       "      <td>Ideas on how to raise the HDI above 1.000, wou...</td>\n",
       "      <td>0.40</td>\n",
       "      <td>https://i.redd.it/pyl003dc3wr71.jpg</td>\n",
       "    </tr>\n",
       "    <tr>\n",
       "      <th>4</th>\n",
       "      <td>[deleted]</td>\n",
       "      <td>1633551973</td>\n",
       "      <td>q2squf</td>\n",
       "      <td>2</td>\n",
       "      <td>1</td>\n",
       "      <td>[deleted]</td>\n",
       "      <td>antiwork</td>\n",
       "      <td>525420</td>\n",
       "      <td>Ideas on how to raise HDI above 1.000, would l...</td>\n",
       "      <td>1.00</td>\n",
       "      <td>https://i.redd.it/yn2kx9zu2wr71.jpg</td>\n",
       "    </tr>\n",
       "  </tbody>\n",
       "</table>\n",
       "</div>"
      ],
      "text/plain": [
       "             author  created_utc      id  num_comments  score  \\\n",
       "0  VoiceofRedditMkI   1633552995  q2t2l4           138      0   \n",
       "1     adammario6556   1633552456  q2swgr            30     29   \n",
       "2            adocdt   1633552378  q2svl2            14     13   \n",
       "3         [deleted]   1633552031  q2srj4             2      0   \n",
       "4         [deleted]   1633551973  q2squf             2      1   \n",
       "\n",
       "                                            selftext subreddit  \\\n",
       "0                                          [removed]  antiwork   \n",
       "1  What are your thoughts on this? I think someth...  antiwork   \n",
       "2  Especially when I don't NEED a job.  \\n\\nI've ...  antiwork   \n",
       "3                                          [deleted]  antiwork   \n",
       "4                                          [deleted]  antiwork   \n",
       "\n",
       "   subreddit_subscribers                                              title  \\\n",
       "0                 525453  Didn't this subreddit use to be about minimisi...   \n",
       "1                 525434  I think there should be a legal requirement fo...   \n",
       "2                 525429         I Forgot How Much I Hate Applying For Jobs   \n",
       "3                 525422  Ideas on how to raise the HDI above 1.000, wou...   \n",
       "4                 525420  Ideas on how to raise HDI above 1.000, would l...   \n",
       "\n",
       "   upvote_ratio                                                url  \n",
       "0          0.38  https://www.reddit.com/r/antiwork/comments/q2t...  \n",
       "1          0.94  https://www.reddit.com/r/antiwork/comments/q2s...  \n",
       "2          0.93  https://www.reddit.com/r/antiwork/comments/q2s...  \n",
       "3          0.40                https://i.redd.it/pyl003dc3wr71.jpg  \n",
       "4          1.00                https://i.redd.it/yn2kx9zu2wr71.jpg  "
      ]
     },
     "execution_count": 11,
     "metadata": {},
     "output_type": "execute_result"
    }
   ],
   "source": [
    "reddit = PushshiftAPI()\n",
    "posts = []\n",
    "sub = reddit.search_submissions(subreddit=subred_list, after=start, before=end, fields=fields)\n",
    "submission_df = pd.DataFrame(sub)\n",
    "submission_df.head()"
   ]
  },
  {
   "cell_type": "code",
   "execution_count": 12,
   "metadata": {},
   "outputs": [],
   "source": [
    "oct21_df = submission_df"
   ]
  },
  {
   "cell_type": "code",
   "execution_count": 13,
   "metadata": {},
   "outputs": [],
   "source": [
    "# Export _df to csv\n",
    "oct21_df.to_csv('oct21_df.csv', index=False)"
   ]
  },
  {
   "cell_type": "code",
   "execution_count": null,
   "metadata": {},
   "outputs": [],
   "source": []
  }
 ],
 "metadata": {
  "kernelspec": {
   "display_name": "Python 3 (ipykernel)",
   "language": "python",
   "name": "python3"
  },
  "language_info": {
   "codemirror_mode": {
    "name": "ipython",
    "version": 3
   },
   "file_extension": ".py",
   "mimetype": "text/x-python",
   "name": "python",
   "nbconvert_exporter": "python",
   "pygments_lexer": "ipython3",
   "version": "3.9.12"
  },
  "vscode": {
   "interpreter": {
    "hash": "7c68699890cd1869885a41d08e48385628aade1eb52ad172109298cf9d071a7d"
   }
  }
 },
 "nbformat": 4,
 "nbformat_minor": 2
}
