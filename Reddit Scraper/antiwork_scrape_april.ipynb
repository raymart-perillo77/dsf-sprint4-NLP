{
 "cells": [
  {
   "cell_type": "code",
   "execution_count": 1,
   "metadata": {},
   "outputs": [],
   "source": [
    "import pandas as pd\n",
    "import pmaw\n",
    "from datetime import datetime\n",
    "from pmaw import PushshiftAPI"
   ]
  },
  {
   "cell_type": "code",
   "execution_count": 2,
   "metadata": {},
   "outputs": [],
   "source": [
    "subred_list = [\"antiwork\"]\n",
    "fields = [\"subreddit\", \"subreddit_subscribers\", \"title\", \"id\", \"author\", \n",
    "            \"created_utc\", \"num_comments\", \"score\", \"selftext\", \"url\", \"upvote_ratio\"]\n",
    "\n",
    "# Change start end end dates to scrape data from\n",
    "start = int(datetime(2021,4,1,0,0).timestamp())\n",
    "end = int(datetime(2021,4,30,23,59).timestamp())"
   ]
  },
  {
   "cell_type": "code",
   "execution_count": 3,
   "metadata": {},
   "outputs": [
    {
     "data": {
      "text/html": [
       "<div>\n",
       "<style scoped>\n",
       "    .dataframe tbody tr th:only-of-type {\n",
       "        vertical-align: middle;\n",
       "    }\n",
       "\n",
       "    .dataframe tbody tr th {\n",
       "        vertical-align: top;\n",
       "    }\n",
       "\n",
       "    .dataframe thead th {\n",
       "        text-align: right;\n",
       "    }\n",
       "</style>\n",
       "<table border=\"1\" class=\"dataframe\">\n",
       "  <thead>\n",
       "    <tr style=\"text-align: right;\">\n",
       "      <th></th>\n",
       "      <th>author</th>\n",
       "      <th>created_utc</th>\n",
       "      <th>id</th>\n",
       "      <th>num_comments</th>\n",
       "      <th>score</th>\n",
       "      <th>selftext</th>\n",
       "      <th>subreddit</th>\n",
       "      <th>subreddit_subscribers</th>\n",
       "      <th>title</th>\n",
       "      <th>upvote_ratio</th>\n",
       "      <th>url</th>\n",
       "    </tr>\n",
       "  </thead>\n",
       "  <tbody>\n",
       "    <tr>\n",
       "      <th>0</th>\n",
       "      <td>mok2k11</td>\n",
       "      <td>1617462296</td>\n",
       "      <td>mja911</td>\n",
       "      <td>0</td>\n",
       "      <td>1</td>\n",
       "      <td>Most men would feel insulted if it were propos...</td>\n",
       "      <td>antiwork</td>\n",
       "      <td>266814</td>\n",
       "      <td>A couple of quotes found in Charles Eisenstein...</td>\n",
       "      <td>1.0</td>\n",
       "      <td>https://www.reddit.com/r/antiwork/comments/mja...</td>\n",
       "    </tr>\n",
       "    <tr>\n",
       "      <th>1</th>\n",
       "      <td>SometimesIceman</td>\n",
       "      <td>1617461590</td>\n",
       "      <td>mja0wt</td>\n",
       "      <td>5</td>\n",
       "      <td>1</td>\n",
       "      <td></td>\n",
       "      <td>antiwork</td>\n",
       "      <td>266812</td>\n",
       "      <td>Or maybe into some woods/mountain or whatever ...</td>\n",
       "      <td>1.0</td>\n",
       "      <td>https://i.redd.it/yzz3os262zq61.jpg</td>\n",
       "    </tr>\n",
       "    <tr>\n",
       "      <th>2</th>\n",
       "      <td>AndyAndieFreude</td>\n",
       "      <td>1617460899</td>\n",
       "      <td>mj9t10</td>\n",
       "      <td>1</td>\n",
       "      <td>1</td>\n",
       "      <td></td>\n",
       "      <td>antiwork</td>\n",
       "      <td>266812</td>\n",
       "      <td>Something you guys might like</td>\n",
       "      <td>1.0</td>\n",
       "      <td>https://i.imgur.com/eC604UU.jpg</td>\n",
       "    </tr>\n",
       "    <tr>\n",
       "      <th>3</th>\n",
       "      <td>zinoknezinau</td>\n",
       "      <td>1617459353</td>\n",
       "      <td>mj9bzl</td>\n",
       "      <td>4</td>\n",
       "      <td>1</td>\n",
       "      <td>I’m a little confused.. what would happen if w...</td>\n",
       "      <td>antiwork</td>\n",
       "      <td>266810</td>\n",
       "      <td>What do you guys want?</td>\n",
       "      <td>1.0</td>\n",
       "      <td>https://www.reddit.com/r/antiwork/comments/mj9...</td>\n",
       "    </tr>\n",
       "    <tr>\n",
       "      <th>4</th>\n",
       "      <td>zinoknezinau</td>\n",
       "      <td>1617459321</td>\n",
       "      <td>mj9bnp</td>\n",
       "      <td>25</td>\n",
       "      <td>1</td>\n",
       "      <td>I’m a little confused.. what would happen if w...</td>\n",
       "      <td>antiwork</td>\n",
       "      <td>266810</td>\n",
       "      <td>What do you guys want?</td>\n",
       "      <td>1.0</td>\n",
       "      <td>https://www.reddit.com/r/antiwork/comments/mj9...</td>\n",
       "    </tr>\n",
       "  </tbody>\n",
       "</table>\n",
       "</div>"
      ],
      "text/plain": [
       "            author  created_utc      id  num_comments  score  \\\n",
       "0          mok2k11   1617462296  mja911             0      1   \n",
       "1  SometimesIceman   1617461590  mja0wt             5      1   \n",
       "2  AndyAndieFreude   1617460899  mj9t10             1      1   \n",
       "3     zinoknezinau   1617459353  mj9bzl             4      1   \n",
       "4     zinoknezinau   1617459321  mj9bnp            25      1   \n",
       "\n",
       "                                            selftext subreddit  \\\n",
       "0  Most men would feel insulted if it were propos...  antiwork   \n",
       "1                                                     antiwork   \n",
       "2                                                     antiwork   \n",
       "3  I’m a little confused.. what would happen if w...  antiwork   \n",
       "4  I’m a little confused.. what would happen if w...  antiwork   \n",
       "\n",
       "   subreddit_subscribers                                              title  \\\n",
       "0                 266814  A couple of quotes found in Charles Eisenstein...   \n",
       "1                 266812  Or maybe into some woods/mountain or whatever ...   \n",
       "2                 266812                      Something you guys might like   \n",
       "3                 266810                             What do you guys want?   \n",
       "4                 266810                             What do you guys want?   \n",
       "\n",
       "   upvote_ratio                                                url  \n",
       "0           1.0  https://www.reddit.com/r/antiwork/comments/mja...  \n",
       "1           1.0                https://i.redd.it/yzz3os262zq61.jpg  \n",
       "2           1.0                    https://i.imgur.com/eC604UU.jpg  \n",
       "3           1.0  https://www.reddit.com/r/antiwork/comments/mj9...  \n",
       "4           1.0  https://www.reddit.com/r/antiwork/comments/mj9...  "
      ]
     },
     "execution_count": 3,
     "metadata": {},
     "output_type": "execute_result"
    }
   ],
   "source": [
    "reddit = PushshiftAPI()\n",
    "posts = []\n",
    "sub = reddit.search_submissions(subreddit=subred_list, after=start, before=end, fields=fields)\n",
    "submission_df = pd.DataFrame(sub)\n",
    "submission_df.head()"
   ]
  },
  {
   "cell_type": "code",
   "execution_count": 5,
   "metadata": {},
   "outputs": [],
   "source": [
    "april21_df = submission_df"
   ]
  },
  {
   "cell_type": "code",
   "execution_count": 6,
   "metadata": {},
   "outputs": [],
   "source": [
    "# Export _df to csv\n",
    "april21_df.to_csv('april21_df.csv', index=False)"
   ]
  },
  {
   "cell_type": "code",
   "execution_count": null,
   "metadata": {},
   "outputs": [],
   "source": []
  }
 ],
 "metadata": {
  "kernelspec": {
   "display_name": "Python 3 (ipykernel)",
   "language": "python",
   "name": "python3"
  },
  "language_info": {
   "codemirror_mode": {
    "name": "ipython",
    "version": 3
   },
   "file_extension": ".py",
   "mimetype": "text/x-python",
   "name": "python",
   "nbconvert_exporter": "python",
   "pygments_lexer": "ipython3",
   "version": "3.9.12"
  },
  "vscode": {
   "interpreter": {
    "hash": "7c68699890cd1869885a41d08e48385628aade1eb52ad172109298cf9d071a7d"
   }
  }
 },
 "nbformat": 4,
 "nbformat_minor": 2
}
