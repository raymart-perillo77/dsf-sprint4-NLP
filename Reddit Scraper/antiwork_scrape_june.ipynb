{
 "cells": [
  {
   "cell_type": "code",
   "execution_count": 1,
   "metadata": {},
   "outputs": [],
   "source": [
    "import pandas as pd\n",
    "import pmaw\n",
    "from datetime import datetime\n",
    "from pmaw import PushshiftAPI"
   ]
  },
  {
   "cell_type": "code",
   "execution_count": 2,
   "metadata": {},
   "outputs": [],
   "source": [
    "subred_list = [\"antiwork\"]\n",
    "fields = [\"subreddit\", \"subreddit_subscribers\", \"title\", \"id\", \"author\", \n",
    "            \"created_utc\", \"num_comments\", \"score\", \"selftext\", \"url\", \"upvote_ratio\"]\n",
    "\n",
    "# Change start end end dates to scrape data from\n",
    "start = int(datetime(2021,6,1,0,0).timestamp())\n",
    "end = int(datetime(2021,6,30,23,59).timestamp())"
   ]
  },
  {
   "cell_type": "code",
   "execution_count": 3,
   "metadata": {},
   "outputs": [
    {
     "data": {
      "text/html": [
       "<div>\n",
       "<style scoped>\n",
       "    .dataframe tbody tr th:only-of-type {\n",
       "        vertical-align: middle;\n",
       "    }\n",
       "\n",
       "    .dataframe tbody tr th {\n",
       "        vertical-align: top;\n",
       "    }\n",
       "\n",
       "    .dataframe thead th {\n",
       "        text-align: right;\n",
       "    }\n",
       "</style>\n",
       "<table border=\"1\" class=\"dataframe\">\n",
       "  <thead>\n",
       "    <tr style=\"text-align: right;\">\n",
       "      <th></th>\n",
       "      <th>author</th>\n",
       "      <th>created_utc</th>\n",
       "      <th>id</th>\n",
       "      <th>num_comments</th>\n",
       "      <th>score</th>\n",
       "      <th>selftext</th>\n",
       "      <th>subreddit</th>\n",
       "      <th>subreddit_subscribers</th>\n",
       "      <th>title</th>\n",
       "      <th>upvote_ratio</th>\n",
       "      <th>url</th>\n",
       "    </tr>\n",
       "  </thead>\n",
       "  <tbody>\n",
       "    <tr>\n",
       "      <th>0</th>\n",
       "      <td>Vergil1997</td>\n",
       "      <td>1622735111</td>\n",
       "      <td>nrgk82</td>\n",
       "      <td>1</td>\n",
       "      <td>1</td>\n",
       "      <td>I am in a wheelchair and since I have seen fro...</td>\n",
       "      <td>antiwork</td>\n",
       "      <td>324272</td>\n",
       "      <td>Laziness and stupidity</td>\n",
       "      <td>1.0</td>\n",
       "      <td>https://www.reddit.com/r/antiwork/comments/nrg...</td>\n",
       "    </tr>\n",
       "    <tr>\n",
       "      <th>1</th>\n",
       "      <td>SpareTesticle</td>\n",
       "      <td>1622734544</td>\n",
       "      <td>nrgchy</td>\n",
       "      <td>3</td>\n",
       "      <td>1</td>\n",
       "      <td></td>\n",
       "      <td>antiwork</td>\n",
       "      <td>324264</td>\n",
       "      <td>Work is meaningless says Sociologist</td>\n",
       "      <td>1.0</td>\n",
       "      <td>/r/jobs/comments/nreg8o/a_recommendation_for_t...</td>\n",
       "    </tr>\n",
       "    <tr>\n",
       "      <th>2</th>\n",
       "      <td>Cowicide</td>\n",
       "      <td>1622734360</td>\n",
       "      <td>nrga3e</td>\n",
       "      <td>0</td>\n",
       "      <td>1</td>\n",
       "      <td></td>\n",
       "      <td>antiwork</td>\n",
       "      <td>324261</td>\n",
       "      <td>Stop working for Jiffy Lube</td>\n",
       "      <td>1.0</td>\n",
       "      <td>https://www.youtube.com/watch?v=oSJl2PnhqBc</td>\n",
       "    </tr>\n",
       "    <tr>\n",
       "      <th>3</th>\n",
       "      <td>Max_Fenig</td>\n",
       "      <td>1622734051</td>\n",
       "      <td>nrg5w6</td>\n",
       "      <td>6</td>\n",
       "      <td>1</td>\n",
       "      <td>\\nFirst things first, I’m not talking suicide....</td>\n",
       "      <td>antiwork</td>\n",
       "      <td>324259</td>\n",
       "      <td>I want out!</td>\n",
       "      <td>1.0</td>\n",
       "      <td>https://www.reddit.com/r/antiwork/comments/nrg...</td>\n",
       "    </tr>\n",
       "    <tr>\n",
       "      <th>4</th>\n",
       "      <td>Cowicide</td>\n",
       "      <td>1622733998</td>\n",
       "      <td>nrg57x</td>\n",
       "      <td>1</td>\n",
       "      <td>1</td>\n",
       "      <td></td>\n",
       "      <td>antiwork</td>\n",
       "      <td>324258</td>\n",
       "      <td>Why I Will Never Give A 2 Week Notice As A Tec...</td>\n",
       "      <td>1.0</td>\n",
       "      <td>https://www.youtube.com/watch?v=LNTHlaLJA_M</td>\n",
       "    </tr>\n",
       "  </tbody>\n",
       "</table>\n",
       "</div>"
      ],
      "text/plain": [
       "          author  created_utc      id  num_comments  score  \\\n",
       "0     Vergil1997   1622735111  nrgk82             1      1   \n",
       "1  SpareTesticle   1622734544  nrgchy             3      1   \n",
       "2       Cowicide   1622734360  nrga3e             0      1   \n",
       "3      Max_Fenig   1622734051  nrg5w6             6      1   \n",
       "4       Cowicide   1622733998  nrg57x             1      1   \n",
       "\n",
       "                                            selftext subreddit  \\\n",
       "0  I am in a wheelchair and since I have seen fro...  antiwork   \n",
       "1                                                     antiwork   \n",
       "2                                                     antiwork   \n",
       "3  \\nFirst things first, I’m not talking suicide....  antiwork   \n",
       "4                                                     antiwork   \n",
       "\n",
       "   subreddit_subscribers                                              title  \\\n",
       "0                 324272                             Laziness and stupidity   \n",
       "1                 324264               Work is meaningless says Sociologist   \n",
       "2                 324261                        Stop working for Jiffy Lube   \n",
       "3                 324259                                        I want out!   \n",
       "4                 324258  Why I Will Never Give A 2 Week Notice As A Tec...   \n",
       "\n",
       "   upvote_ratio                                                url  \n",
       "0           1.0  https://www.reddit.com/r/antiwork/comments/nrg...  \n",
       "1           1.0  /r/jobs/comments/nreg8o/a_recommendation_for_t...  \n",
       "2           1.0        https://www.youtube.com/watch?v=oSJl2PnhqBc  \n",
       "3           1.0  https://www.reddit.com/r/antiwork/comments/nrg...  \n",
       "4           1.0        https://www.youtube.com/watch?v=LNTHlaLJA_M  "
      ]
     },
     "execution_count": 3,
     "metadata": {},
     "output_type": "execute_result"
    }
   ],
   "source": [
    "reddit = PushshiftAPI()\n",
    "posts = []\n",
    "sub = reddit.search_submissions(subreddit=subred_list, after=start, before=end, fields=fields)\n",
    "submission_df = pd.DataFrame(sub)\n",
    "submission_df.head()"
   ]
  },
  {
   "cell_type": "code",
   "execution_count": 4,
   "metadata": {},
   "outputs": [],
   "source": [
    "june21_df = submission_df"
   ]
  },
  {
   "cell_type": "code",
   "execution_count": 5,
   "metadata": {},
   "outputs": [],
   "source": [
    "# Export _df to csv\n",
    "june21_df.to_csv('june21_df.csv', index=False)"
   ]
  },
  {
   "cell_type": "code",
   "execution_count": null,
   "metadata": {},
   "outputs": [],
   "source": []
  }
 ],
 "metadata": {
  "kernelspec": {
   "display_name": "Python 3 (ipykernel)",
   "language": "python",
   "name": "python3"
  },
  "language_info": {
   "codemirror_mode": {
    "name": "ipython",
    "version": 3
   },
   "file_extension": ".py",
   "mimetype": "text/x-python",
   "name": "python",
   "nbconvert_exporter": "python",
   "pygments_lexer": "ipython3",
   "version": "3.9.12"
  },
  "vscode": {
   "interpreter": {
    "hash": "7c68699890cd1869885a41d08e48385628aade1eb52ad172109298cf9d071a7d"
   }
  }
 },
 "nbformat": 4,
 "nbformat_minor": 2
}
