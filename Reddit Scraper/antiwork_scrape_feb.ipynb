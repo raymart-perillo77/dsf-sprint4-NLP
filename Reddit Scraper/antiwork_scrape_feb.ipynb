{
 "cells": [
  {
   "cell_type": "code",
   "execution_count": 1,
   "metadata": {},
   "outputs": [],
   "source": [
    "import pandas as pd\n",
    "import pmaw\n",
    "from datetime import datetime\n",
    "from pmaw import PushshiftAPI"
   ]
  },
  {
   "cell_type": "code",
   "execution_count": 2,
   "metadata": {},
   "outputs": [],
   "source": [
    "subred_list = [\"antiwork\"]\n",
    "fields = [\"subreddit\", \"subreddit_subscribers\", \"title\", \"id\", \"author\", \n",
    "            \"created_utc\", \"num_comments\", \"score\", \"selftext\", \"url\", \"upvote_ratio\"]\n",
    "\n",
    "# Change start end end dates to scrape data from\n",
    "start = int(datetime(2021,2,1,0,0).timestamp())\n",
    "end = int(datetime(2021,2,28,23,59).timestamp())"
   ]
  },
  {
   "cell_type": "code",
   "execution_count": 3,
   "metadata": {},
   "outputs": [
    {
     "data": {
      "text/html": [
       "<div>\n",
       "<style scoped>\n",
       "    .dataframe tbody tr th:only-of-type {\n",
       "        vertical-align: middle;\n",
       "    }\n",
       "\n",
       "    .dataframe tbody tr th {\n",
       "        vertical-align: top;\n",
       "    }\n",
       "\n",
       "    .dataframe thead th {\n",
       "        text-align: right;\n",
       "    }\n",
       "</style>\n",
       "<table border=\"1\" class=\"dataframe\">\n",
       "  <thead>\n",
       "    <tr style=\"text-align: right;\">\n",
       "      <th></th>\n",
       "      <th>author</th>\n",
       "      <th>created_utc</th>\n",
       "      <th>id</th>\n",
       "      <th>num_comments</th>\n",
       "      <th>score</th>\n",
       "      <th>selftext</th>\n",
       "      <th>subreddit</th>\n",
       "      <th>subreddit_subscribers</th>\n",
       "      <th>title</th>\n",
       "      <th>upvote_ratio</th>\n",
       "      <th>url</th>\n",
       "    </tr>\n",
       "  </thead>\n",
       "  <tbody>\n",
       "    <tr>\n",
       "      <th>0</th>\n",
       "      <td>-Orotoro-</td>\n",
       "      <td>1612478507</td>\n",
       "      <td>lcsd6a</td>\n",
       "      <td>1</td>\n",
       "      <td>67</td>\n",
       "      <td></td>\n",
       "      <td>antiwork</td>\n",
       "      <td>235691</td>\n",
       "      <td>They're family, but the kind of family you cut...</td>\n",
       "      <td>0.95</td>\n",
       "      <td>https://i.redd.it/eeaakp4b8jf61.jpg</td>\n",
       "    </tr>\n",
       "    <tr>\n",
       "      <th>1</th>\n",
       "      <td>failed_evolution</td>\n",
       "      <td>1612477442</td>\n",
       "      <td>lcrz0j</td>\n",
       "      <td>24</td>\n",
       "      <td>414</td>\n",
       "      <td></td>\n",
       "      <td>antiwork</td>\n",
       "      <td>235684</td>\n",
       "      <td>If we can cancel trillions in taxes for a hand...</td>\n",
       "      <td>0.96</td>\n",
       "      <td>https://twitter.com/RBReich/status/13574203419...</td>\n",
       "    </tr>\n",
       "    <tr>\n",
       "      <th>2</th>\n",
       "      <td>dondadondadonda</td>\n",
       "      <td>1612475257</td>\n",
       "      <td>lcr4a0</td>\n",
       "      <td>8</td>\n",
       "      <td>5</td>\n",
       "      <td>Hi everyone,\\n\\nI started working two months a...</td>\n",
       "      <td>antiwork</td>\n",
       "      <td>235679</td>\n",
       "      <td>Any advice for coping with 50 years of hell?</td>\n",
       "      <td>0.78</td>\n",
       "      <td>https://www.reddit.com/r/antiwork/comments/lcr...</td>\n",
       "    </tr>\n",
       "    <tr>\n",
       "      <th>3</th>\n",
       "      <td>Flying_pizza89</td>\n",
       "      <td>1612474919</td>\n",
       "      <td>lcqzt1</td>\n",
       "      <td>0</td>\n",
       "      <td>106</td>\n",
       "      <td></td>\n",
       "      <td>antiwork</td>\n",
       "      <td>235677</td>\n",
       "      <td>I need it yesterday!</td>\n",
       "      <td>0.98</td>\n",
       "      <td>https://i.redd.it/huu55qesrgf61.png</td>\n",
       "    </tr>\n",
       "    <tr>\n",
       "      <th>4</th>\n",
       "      <td>watchtheworldsmolder</td>\n",
       "      <td>1612473929</td>\n",
       "      <td>lcqm3i</td>\n",
       "      <td>7</td>\n",
       "      <td>545</td>\n",
       "      <td></td>\n",
       "      <td>antiwork</td>\n",
       "      <td>235671</td>\n",
       "      <td>Trickle this...</td>\n",
       "      <td>0.98</td>\n",
       "      <td>https://i.imgur.com/9RBt9kc.jpg</td>\n",
       "    </tr>\n",
       "  </tbody>\n",
       "</table>\n",
       "</div>"
      ],
      "text/plain": [
       "                 author  created_utc      id  num_comments  score  \\\n",
       "0             -Orotoro-   1612478507  lcsd6a             1     67   \n",
       "1      failed_evolution   1612477442  lcrz0j            24    414   \n",
       "2       dondadondadonda   1612475257  lcr4a0             8      5   \n",
       "3        Flying_pizza89   1612474919  lcqzt1             0    106   \n",
       "4  watchtheworldsmolder   1612473929  lcqm3i             7    545   \n",
       "\n",
       "                                            selftext subreddit  \\\n",
       "0                                                     antiwork   \n",
       "1                                                     antiwork   \n",
       "2  Hi everyone,\\n\\nI started working two months a...  antiwork   \n",
       "3                                                     antiwork   \n",
       "4                                                     antiwork   \n",
       "\n",
       "   subreddit_subscribers                                              title  \\\n",
       "0                 235691  They're family, but the kind of family you cut...   \n",
       "1                 235684  If we can cancel trillions in taxes for a hand...   \n",
       "2                 235679       Any advice for coping with 50 years of hell?   \n",
       "3                 235677                               I need it yesterday!   \n",
       "4                 235671                                    Trickle this...   \n",
       "\n",
       "   upvote_ratio                                                url  \n",
       "0          0.95                https://i.redd.it/eeaakp4b8jf61.jpg  \n",
       "1          0.96  https://twitter.com/RBReich/status/13574203419...  \n",
       "2          0.78  https://www.reddit.com/r/antiwork/comments/lcr...  \n",
       "3          0.98                https://i.redd.it/huu55qesrgf61.png  \n",
       "4          0.98                    https://i.imgur.com/9RBt9kc.jpg  "
      ]
     },
     "execution_count": 3,
     "metadata": {},
     "output_type": "execute_result"
    }
   ],
   "source": [
    "reddit = PushshiftAPI()\n",
    "posts = []\n",
    "sub = reddit.search_submissions(subreddit=subred_list, after=start, before=end, fields=fields)\n",
    "submission_df = pd.DataFrame(sub)\n",
    "submission_df.head()"
   ]
  },
  {
   "cell_type": "code",
   "execution_count": 4,
   "metadata": {},
   "outputs": [],
   "source": [
    "feb21_df = submission_df"
   ]
  },
  {
   "cell_type": "code",
   "execution_count": 5,
   "metadata": {},
   "outputs": [],
   "source": [
    "# Export _df to csv\n",
    "feb21_df.to_csv('feb21_df.csv', index=False)"
   ]
  },
  {
   "cell_type": "code",
   "execution_count": null,
   "metadata": {},
   "outputs": [],
   "source": []
  }
 ],
 "metadata": {
  "kernelspec": {
   "display_name": "Python 3 (ipykernel)",
   "language": "python",
   "name": "python3"
  },
  "language_info": {
   "codemirror_mode": {
    "name": "ipython",
    "version": 3
   },
   "file_extension": ".py",
   "mimetype": "text/x-python",
   "name": "python",
   "nbconvert_exporter": "python",
   "pygments_lexer": "ipython3",
   "version": "3.9.12"
  },
  "vscode": {
   "interpreter": {
    "hash": "7c68699890cd1869885a41d08e48385628aade1eb52ad172109298cf9d071a7d"
   }
  }
 },
 "nbformat": 4,
 "nbformat_minor": 2
}
