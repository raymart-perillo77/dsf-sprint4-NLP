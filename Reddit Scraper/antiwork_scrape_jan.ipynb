{
 "cells": [
  {
   "cell_type": "code",
   "execution_count": 1,
   "metadata": {},
   "outputs": [],
   "source": [
    "import pandas as pd\n",
    "import pmaw\n",
    "from datetime import datetime\n",
    "from pmaw import PushshiftAPI"
   ]
  },
  {
   "cell_type": "code",
   "execution_count": 2,
   "metadata": {},
   "outputs": [],
   "source": [
    "subred_list = [\"antiwork\"]\n",
    "fields = [\"subreddit\", \"subreddit_subscribers\", \"title\", \"id\", \"author\", \n",
    "            \"created_utc\", \"num_comments\", \"score\", \"selftext\", \"url\", \"upvote_ratio\"]\n",
    "\n",
    "# Change start end end dates to scrape data from\n",
    "start = int(datetime(2021,1,1,0,0).timestamp())\n",
    "end = int(datetime(2021,1,31,23,59).timestamp())"
   ]
  },
  {
   "cell_type": "code",
   "execution_count": 3,
   "metadata": {},
   "outputs": [
    {
     "data": {
      "text/html": [
       "<div>\n",
       "<style scoped>\n",
       "    .dataframe tbody tr th:only-of-type {\n",
       "        vertical-align: middle;\n",
       "    }\n",
       "\n",
       "    .dataframe tbody tr th {\n",
       "        vertical-align: top;\n",
       "    }\n",
       "\n",
       "    .dataframe thead th {\n",
       "        text-align: right;\n",
       "    }\n",
       "</style>\n",
       "<table border=\"1\" class=\"dataframe\">\n",
       "  <thead>\n",
       "    <tr style=\"text-align: right;\">\n",
       "      <th></th>\n",
       "      <th>author</th>\n",
       "      <th>created_utc</th>\n",
       "      <th>id</th>\n",
       "      <th>num_comments</th>\n",
       "      <th>score</th>\n",
       "      <th>selftext</th>\n",
       "      <th>subreddit</th>\n",
       "      <th>subreddit_subscribers</th>\n",
       "      <th>title</th>\n",
       "      <th>upvote_ratio</th>\n",
       "      <th>url</th>\n",
       "    </tr>\n",
       "  </thead>\n",
       "  <tbody>\n",
       "    <tr>\n",
       "      <th>0</th>\n",
       "      <td>QueasyStrawberry</td>\n",
       "      <td>1609696739</td>\n",
       "      <td>kpp82c</td>\n",
       "      <td>4</td>\n",
       "      <td>1</td>\n",
       "      <td>I find myself incredibly depressed during the ...</td>\n",
       "      <td>antiwork</td>\n",
       "      <td>213853</td>\n",
       "      <td>After the holidays</td>\n",
       "      <td>1.0</td>\n",
       "      <td>https://www.reddit.com/r/antiwork/comments/kpp...</td>\n",
       "    </tr>\n",
       "    <tr>\n",
       "      <th>1</th>\n",
       "      <td>Girthybrooks420</td>\n",
       "      <td>1609693504</td>\n",
       "      <td>kpo696</td>\n",
       "      <td>5</td>\n",
       "      <td>1</td>\n",
       "      <td></td>\n",
       "      <td>antiwork</td>\n",
       "      <td>213846</td>\n",
       "      <td>My future</td>\n",
       "      <td>1.0</td>\n",
       "      <td>https://i.redd.it/6ju3i0kpf5961.jpg</td>\n",
       "    </tr>\n",
       "    <tr>\n",
       "      <th>2</th>\n",
       "      <td>insomniacaesthetic</td>\n",
       "      <td>1609693167</td>\n",
       "      <td>kpo23z</td>\n",
       "      <td>34</td>\n",
       "      <td>1</td>\n",
       "      <td>Whenever I am enjoying content about “eat the ...</td>\n",
       "      <td>antiwork</td>\n",
       "      <td>213848</td>\n",
       "      <td>How do you respond to the “billionaires worked...</td>\n",
       "      <td>1.0</td>\n",
       "      <td>https://www.reddit.com/r/antiwork/comments/kpo...</td>\n",
       "    </tr>\n",
       "    <tr>\n",
       "      <th>3</th>\n",
       "      <td>ichigocho</td>\n",
       "      <td>1609692372</td>\n",
       "      <td>kpntb3</td>\n",
       "      <td>6</td>\n",
       "      <td>1</td>\n",
       "      <td>Not even kidding. I’m a medical transcriptioni...</td>\n",
       "      <td>antiwork</td>\n",
       "      <td>213844</td>\n",
       "      <td>I finish my task at work in just an hour</td>\n",
       "      <td>1.0</td>\n",
       "      <td>https://www.reddit.com/r/antiwork/comments/kpn...</td>\n",
       "    </tr>\n",
       "    <tr>\n",
       "      <th>4</th>\n",
       "      <td>aguythatsucks</td>\n",
       "      <td>1609690665</td>\n",
       "      <td>kpnal4</td>\n",
       "      <td>17</td>\n",
       "      <td>1</td>\n",
       "      <td>im curious about what the world would be like ...</td>\n",
       "      <td>antiwork</td>\n",
       "      <td>213839</td>\n",
       "      <td>why are ya'll anti work?</td>\n",
       "      <td>1.0</td>\n",
       "      <td>https://www.reddit.com/r/antiwork/comments/kpn...</td>\n",
       "    </tr>\n",
       "  </tbody>\n",
       "</table>\n",
       "</div>"
      ],
      "text/plain": [
       "               author  created_utc      id  num_comments  score  \\\n",
       "0    QueasyStrawberry   1609696739  kpp82c             4      1   \n",
       "1     Girthybrooks420   1609693504  kpo696             5      1   \n",
       "2  insomniacaesthetic   1609693167  kpo23z            34      1   \n",
       "3           ichigocho   1609692372  kpntb3             6      1   \n",
       "4       aguythatsucks   1609690665  kpnal4            17      1   \n",
       "\n",
       "                                            selftext subreddit  \\\n",
       "0  I find myself incredibly depressed during the ...  antiwork   \n",
       "1                                                     antiwork   \n",
       "2  Whenever I am enjoying content about “eat the ...  antiwork   \n",
       "3  Not even kidding. I’m a medical transcriptioni...  antiwork   \n",
       "4  im curious about what the world would be like ...  antiwork   \n",
       "\n",
       "   subreddit_subscribers                                              title  \\\n",
       "0                 213853                                 After the holidays   \n",
       "1                 213846                                          My future   \n",
       "2                 213848  How do you respond to the “billionaires worked...   \n",
       "3                 213844           I finish my task at work in just an hour   \n",
       "4                 213839                           why are ya'll anti work?   \n",
       "\n",
       "   upvote_ratio                                                url  \n",
       "0           1.0  https://www.reddit.com/r/antiwork/comments/kpp...  \n",
       "1           1.0                https://i.redd.it/6ju3i0kpf5961.jpg  \n",
       "2           1.0  https://www.reddit.com/r/antiwork/comments/kpo...  \n",
       "3           1.0  https://www.reddit.com/r/antiwork/comments/kpn...  \n",
       "4           1.0  https://www.reddit.com/r/antiwork/comments/kpn...  "
      ]
     },
     "execution_count": 3,
     "metadata": {},
     "output_type": "execute_result"
    }
   ],
   "source": [
    "reddit = PushshiftAPI()\n",
    "posts = []\n",
    "sub = reddit.search_submissions(subreddit=subred_list, after=start, before=end, fields=fields)\n",
    "submission_df = pd.DataFrame(sub)\n",
    "submission_df.head()"
   ]
  },
  {
   "cell_type": "code",
   "execution_count": 4,
   "metadata": {},
   "outputs": [
    {
     "data": {
      "text/plain": [
       "(2326, 11)"
      ]
     },
     "execution_count": 4,
     "metadata": {},
     "output_type": "execute_result"
    }
   ],
   "source": [
    "submission_df.shape"
   ]
  },
  {
   "cell_type": "code",
   "execution_count": 5,
   "metadata": {},
   "outputs": [],
   "source": [
    "jan21_df = submission_df"
   ]
  },
  {
   "cell_type": "code",
   "execution_count": 8,
   "metadata": {},
   "outputs": [],
   "source": [
    "# Export _df to csv\n",
    "jan21_df.to_csv('jan21_df.csv', index=False)"
   ]
  },
  {
   "cell_type": "code",
   "execution_count": null,
   "metadata": {},
   "outputs": [],
   "source": []
  }
 ],
 "metadata": {
  "kernelspec": {
   "display_name": "Python 3 (ipykernel)",
   "language": "python",
   "name": "python3"
  },
  "language_info": {
   "codemirror_mode": {
    "name": "ipython",
    "version": 3
   },
   "file_extension": ".py",
   "mimetype": "text/x-python",
   "name": "python",
   "nbconvert_exporter": "python",
   "pygments_lexer": "ipython3",
   "version": "3.9.12"
  },
  "vscode": {
   "interpreter": {
    "hash": "7c68699890cd1869885a41d08e48385628aade1eb52ad172109298cf9d071a7d"
   }
  }
 },
 "nbformat": 4,
 "nbformat_minor": 2
}
