{
 "cells": [
  {
   "cell_type": "code",
   "execution_count": 1,
   "metadata": {},
   "outputs": [],
   "source": [
    "import pandas as pd\n",
    "import pmaw\n",
    "from datetime import datetime\n",
    "from pmaw import PushshiftAPI"
   ]
  },
  {
   "cell_type": "code",
   "execution_count": 2,
   "metadata": {},
   "outputs": [],
   "source": [
    "subred_list = [\"antiwork\"]\n",
    "fields = [\"subreddit\", \"subreddit_subscribers\", \"title\", \"id\", \"author\", \n",
    "            \"created_utc\", \"num_comments\", \"score\", \"selftext\", \"url\", \"upvote_ratio\"]\n",
    "\n",
    "# Change start end end dates to scrape data from\n",
    "start = int(datetime(2021,3,1,0,0).timestamp())\n",
    "end = int(datetime(2021,3,31,23,59).timestamp())"
   ]
  },
  {
   "cell_type": "code",
   "execution_count": 3,
   "metadata": {},
   "outputs": [
    {
     "data": {
      "text/html": [
       "<div>\n",
       "<style scoped>\n",
       "    .dataframe tbody tr th:only-of-type {\n",
       "        vertical-align: middle;\n",
       "    }\n",
       "\n",
       "    .dataframe tbody tr th {\n",
       "        vertical-align: top;\n",
       "    }\n",
       "\n",
       "    .dataframe thead th {\n",
       "        text-align: right;\n",
       "    }\n",
       "</style>\n",
       "<table border=\"1\" class=\"dataframe\">\n",
       "  <thead>\n",
       "    <tr style=\"text-align: right;\">\n",
       "      <th></th>\n",
       "      <th>author</th>\n",
       "      <th>created_utc</th>\n",
       "      <th>id</th>\n",
       "      <th>num_comments</th>\n",
       "      <th>score</th>\n",
       "      <th>selftext</th>\n",
       "      <th>subreddit</th>\n",
       "      <th>subreddit_subscribers</th>\n",
       "      <th>title</th>\n",
       "      <th>upvote_ratio</th>\n",
       "      <th>url</th>\n",
       "    </tr>\n",
       "  </thead>\n",
       "  <tbody>\n",
       "    <tr>\n",
       "      <th>0</th>\n",
       "      <td>[deleted]</td>\n",
       "      <td>1614941263</td>\n",
       "      <td>ly9az6</td>\n",
       "      <td>2</td>\n",
       "      <td>21</td>\n",
       "      <td>[deleted]</td>\n",
       "      <td>antiwork</td>\n",
       "      <td>249539</td>\n",
       "      <td>All of that just for you to get $15 an hour an...</td>\n",
       "      <td>0.83</td>\n",
       "      <td>https://i.redd.it/s7ec8pvzv6l61.jpg</td>\n",
       "    </tr>\n",
       "    <tr>\n",
       "      <th>1</th>\n",
       "      <td>capnbarky</td>\n",
       "      <td>1614938207</td>\n",
       "      <td>ly8n1v</td>\n",
       "      <td>22</td>\n",
       "      <td>53</td>\n",
       "      <td>I know a lot of people on this sub really like...</td>\n",
       "      <td>antiwork</td>\n",
       "      <td>249538</td>\n",
       "      <td>UBI and Assured Housing will just lead to serf...</td>\n",
       "      <td>0.89</td>\n",
       "      <td>https://www.reddit.com/r/antiwork/comments/ly8...</td>\n",
       "    </tr>\n",
       "    <tr>\n",
       "      <th>2</th>\n",
       "      <td>[deleted]</td>\n",
       "      <td>1614933246</td>\n",
       "      <td>ly7jtr</td>\n",
       "      <td>1</td>\n",
       "      <td>4</td>\n",
       "      <td>[deleted]</td>\n",
       "      <td>antiwork</td>\n",
       "      <td>249529</td>\n",
       "      <td>BdobbinsFTW on work</td>\n",
       "      <td>0.83</td>\n",
       "      <td>https://www.reddit.com/r/antiwork/comments/ly7...</td>\n",
       "    </tr>\n",
       "    <tr>\n",
       "      <th>3</th>\n",
       "      <td>iliketoeatfoodnomnom</td>\n",
       "      <td>1614931300</td>\n",
       "      <td>ly7532</td>\n",
       "      <td>12</td>\n",
       "      <td>21</td>\n",
       "      <td>i hate it here so much. i work retail and they...</td>\n",
       "      <td>antiwork</td>\n",
       "      <td>249524</td>\n",
       "      <td>my job forces me to push credit cards</td>\n",
       "      <td>0.94</td>\n",
       "      <td>https://www.reddit.com/r/antiwork/comments/ly7...</td>\n",
       "    </tr>\n",
       "    <tr>\n",
       "      <th>4</th>\n",
       "      <td>complain_about_work</td>\n",
       "      <td>1614930863</td>\n",
       "      <td>ly71k1</td>\n",
       "      <td>4</td>\n",
       "      <td>29</td>\n",
       "      <td>just stating the obvious lol</td>\n",
       "      <td>antiwork</td>\n",
       "      <td>249524</td>\n",
       "      <td>I hate my job I don’t want to work anymore</td>\n",
       "      <td>0.98</td>\n",
       "      <td>https://www.reddit.com/r/antiwork/comments/ly7...</td>\n",
       "    </tr>\n",
       "  </tbody>\n",
       "</table>\n",
       "</div>"
      ],
      "text/plain": [
       "                 author  created_utc      id  num_comments  score  \\\n",
       "0             [deleted]   1614941263  ly9az6             2     21   \n",
       "1             capnbarky   1614938207  ly8n1v            22     53   \n",
       "2             [deleted]   1614933246  ly7jtr             1      4   \n",
       "3  iliketoeatfoodnomnom   1614931300  ly7532            12     21   \n",
       "4   complain_about_work   1614930863  ly71k1             4     29   \n",
       "\n",
       "                                            selftext subreddit  \\\n",
       "0                                          [deleted]  antiwork   \n",
       "1  I know a lot of people on this sub really like...  antiwork   \n",
       "2                                          [deleted]  antiwork   \n",
       "3  i hate it here so much. i work retail and they...  antiwork   \n",
       "4                       just stating the obvious lol  antiwork   \n",
       "\n",
       "   subreddit_subscribers                                              title  \\\n",
       "0                 249539  All of that just for you to get $15 an hour an...   \n",
       "1                 249538  UBI and Assured Housing will just lead to serf...   \n",
       "2                 249529                                BdobbinsFTW on work   \n",
       "3                 249524              my job forces me to push credit cards   \n",
       "4                 249524         I hate my job I don’t want to work anymore   \n",
       "\n",
       "   upvote_ratio                                                url  \n",
       "0          0.83                https://i.redd.it/s7ec8pvzv6l61.jpg  \n",
       "1          0.89  https://www.reddit.com/r/antiwork/comments/ly8...  \n",
       "2          0.83  https://www.reddit.com/r/antiwork/comments/ly7...  \n",
       "3          0.94  https://www.reddit.com/r/antiwork/comments/ly7...  \n",
       "4          0.98  https://www.reddit.com/r/antiwork/comments/ly7...  "
      ]
     },
     "execution_count": 3,
     "metadata": {},
     "output_type": "execute_result"
    }
   ],
   "source": [
    "reddit = PushshiftAPI()\n",
    "posts = []\n",
    "sub = reddit.search_submissions(subreddit=subred_list, after=start, before=end, fields=fields)\n",
    "submission_df = pd.DataFrame(sub)\n",
    "submission_df.head()"
   ]
  },
  {
   "cell_type": "code",
   "execution_count": 4,
   "metadata": {},
   "outputs": [],
   "source": [
    "mar21_df = submission_df"
   ]
  },
  {
   "cell_type": "code",
   "execution_count": 5,
   "metadata": {},
   "outputs": [],
   "source": [
    "# Export _df to csv\n",
    "mar21_df.to_csv('mar21_df.csv', index=False)"
   ]
  },
  {
   "cell_type": "code",
   "execution_count": null,
   "metadata": {},
   "outputs": [],
   "source": []
  }
 ],
 "metadata": {
  "kernelspec": {
   "display_name": "Python 3 (ipykernel)",
   "language": "python",
   "name": "python3"
  },
  "language_info": {
   "codemirror_mode": {
    "name": "ipython",
    "version": 3
   },
   "file_extension": ".py",
   "mimetype": "text/x-python",
   "name": "python",
   "nbconvert_exporter": "python",
   "pygments_lexer": "ipython3",
   "version": "3.9.12"
  },
  "vscode": {
   "interpreter": {
    "hash": "7c68699890cd1869885a41d08e48385628aade1eb52ad172109298cf9d071a7d"
   }
  }
 },
 "nbformat": 4,
 "nbformat_minor": 2
}
