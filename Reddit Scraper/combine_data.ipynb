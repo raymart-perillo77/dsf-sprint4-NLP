{
 "cells": [
  {
   "cell_type": "code",
   "execution_count": 4,
   "metadata": {},
   "outputs": [],
   "source": [
    "import pandas as pd"
   ]
  },
  {
   "cell_type": "code",
   "execution_count": 16,
   "metadata": {},
   "outputs": [],
   "source": [
    "jan_2020 = pd.read_csv(\"data/Jan_2020_submission_df.csv\")\n",
    "feb_2020 = pd.read_csv('data/Feb_2020_submission_df.csv')\n",
    "mar_2020 = pd.read_csv('data/Mar_2020_submission_df.csv')\n",
    "apr_2020 = pd.read_csv('data/Apr_2020_submission_df.csv')\n",
    "may_2020 = pd.read_csv('data/May_2020_submission_df.csv')\n",
    "jun_2020 = pd.read_csv('data/Jun_2020_submission_df.csv')\n",
    "jul_2020 = pd.read_csv('data/Jul_2020_submission_df.csv')\n",
    "aug_2020 = pd.read_csv('data/Aug_2020_submission_df.csv')\n",
    "sep_2020 = pd.read_csv('data/Sep_2020_submission_df.csv')\n",
    "oct_2020 = pd.read_csv('data/Oct_2020_submission_df.csv')\n",
    "nov_2020 = pd.read_csv('data/Nov_2020_submission_df.csv')\n",
    "dec_2020 = pd.read_csv('data/Dec_2020_submission_df.csv')"
   ]
  },
  {
   "cell_type": "code",
   "execution_count": 17,
   "metadata": {},
   "outputs": [],
   "source": [
    "# Concatenate all the dataframes\n",
    "df_2020 = pd.concat([jan_2020, feb_2020, mar_2020, apr_2020, may_2020, jun_2020, jul_2020, aug_2020, sep_2020, oct_2020, nov_2020, dec_2020]) "
   ]
  },
  {
   "cell_type": "code",
   "execution_count": 27,
   "metadata": {},
   "outputs": [],
   "source": [
    "# Drop Unnecessary columns\n",
    "df_2020 = df_2020.drop(columns=['Unnamed: 0'])"
   ]
  },
  {
   "cell_type": "code",
   "execution_count": 28,
   "metadata": {},
   "outputs": [
    {
     "data": {
      "text/html": [
       "<div>\n",
       "<style scoped>\n",
       "    .dataframe tbody tr th:only-of-type {\n",
       "        vertical-align: middle;\n",
       "    }\n",
       "\n",
       "    .dataframe tbody tr th {\n",
       "        vertical-align: top;\n",
       "    }\n",
       "\n",
       "    .dataframe thead th {\n",
       "        text-align: right;\n",
       "    }\n",
       "</style>\n",
       "<table border=\"1\" class=\"dataframe\">\n",
       "  <thead>\n",
       "    <tr style=\"text-align: right;\">\n",
       "      <th></th>\n",
       "      <th>author</th>\n",
       "      <th>created_utc</th>\n",
       "      <th>id</th>\n",
       "      <th>num_comments</th>\n",
       "      <th>score</th>\n",
       "      <th>selftext</th>\n",
       "      <th>subreddit</th>\n",
       "      <th>subreddit_subscribers</th>\n",
       "      <th>title</th>\n",
       "      <th>url</th>\n",
       "      <th>upvote_ratio</th>\n",
       "    </tr>\n",
       "  </thead>\n",
       "  <tbody>\n",
       "    <tr>\n",
       "      <th>0</th>\n",
       "      <td>61855415136151852251</td>\n",
       "      <td>1584130573</td>\n",
       "      <td>fi61cq</td>\n",
       "      <td>1</td>\n",
       "      <td>1</td>\n",
       "      <td>for the love of all that is holy, we need to m...</td>\n",
       "      <td>antiwork</td>\n",
       "      <td>100963</td>\n",
       "      <td>a little rant on shopping etc</td>\n",
       "      <td>https://www.reddit.com/r/antiwork/comments/fi6...</td>\n",
       "      <td>NaN</td>\n",
       "    </tr>\n",
       "    <tr>\n",
       "      <th>1</th>\n",
       "      <td>Flimsy_Panda</td>\n",
       "      <td>1584128351</td>\n",
       "      <td>fi5fuj</td>\n",
       "      <td>11</td>\n",
       "      <td>1</td>\n",
       "      <td>Big /S of course. \\n\\nMy boss just wrote a big...</td>\n",
       "      <td>antiwork</td>\n",
       "      <td>100953</td>\n",
       "      <td>Praise be to the benevolent capitalist god!</td>\n",
       "      <td>https://www.reddit.com/r/antiwork/comments/fi5...</td>\n",
       "      <td>NaN</td>\n",
       "    </tr>\n",
       "    <tr>\n",
       "      <th>2</th>\n",
       "      <td>MariaCN</td>\n",
       "      <td>1584128245</td>\n",
       "      <td>fi5ev9</td>\n",
       "      <td>1</td>\n",
       "      <td>1</td>\n",
       "      <td>NaN</td>\n",
       "      <td>antiwork</td>\n",
       "      <td>100954</td>\n",
       "      <td>Italian Factory Workers Go on Strike for Coron...</td>\n",
       "      <td>https://www.leftvoice.org/italian-factory-work...</td>\n",
       "      <td>NaN</td>\n",
       "    </tr>\n",
       "    <tr>\n",
       "      <th>3</th>\n",
       "      <td>helpmeplease12235787</td>\n",
       "      <td>1584126022</td>\n",
       "      <td>fi4t2k</td>\n",
       "      <td>5</td>\n",
       "      <td>1</td>\n",
       "      <td>My job makes me stressed, anxious, tired, and ...</td>\n",
       "      <td>antiwork</td>\n",
       "      <td>100948</td>\n",
       "      <td>How to not let it get to me?</td>\n",
       "      <td>https://www.reddit.com/r/antiwork/comments/fi4...</td>\n",
       "      <td>NaN</td>\n",
       "    </tr>\n",
       "    <tr>\n",
       "      <th>4</th>\n",
       "      <td>K2vvvvvv</td>\n",
       "      <td>1584123951</td>\n",
       "      <td>fi48w3</td>\n",
       "      <td>1</td>\n",
       "      <td>1</td>\n",
       "      <td>I was wondering if you can get the SSP (£94.25...</td>\n",
       "      <td>antiwork</td>\n",
       "      <td>100946</td>\n",
       "      <td>Can you get sick pay for COVID-19 if you work ...</td>\n",
       "      <td>https://www.reddit.com/r/antiwork/comments/fi4...</td>\n",
       "      <td>NaN</td>\n",
       "    </tr>\n",
       "  </tbody>\n",
       "</table>\n",
       "</div>"
      ],
      "text/plain": [
       "                 author  created_utc      id  num_comments  score  \\\n",
       "0  61855415136151852251   1584130573  fi61cq             1      1   \n",
       "1          Flimsy_Panda   1584128351  fi5fuj            11      1   \n",
       "2               MariaCN   1584128245  fi5ev9             1      1   \n",
       "3  helpmeplease12235787   1584126022  fi4t2k             5      1   \n",
       "4              K2vvvvvv   1584123951  fi48w3             1      1   \n",
       "\n",
       "                                            selftext subreddit  \\\n",
       "0  for the love of all that is holy, we need to m...  antiwork   \n",
       "1  Big /S of course. \\n\\nMy boss just wrote a big...  antiwork   \n",
       "2                                                NaN  antiwork   \n",
       "3  My job makes me stressed, anxious, tired, and ...  antiwork   \n",
       "4  I was wondering if you can get the SSP (£94.25...  antiwork   \n",
       "\n",
       "   subreddit_subscribers                                              title  \\\n",
       "0                 100963                      a little rant on shopping etc   \n",
       "1                 100953        Praise be to the benevolent capitalist god!   \n",
       "2                 100954  Italian Factory Workers Go on Strike for Coron...   \n",
       "3                 100948                       How to not let it get to me?   \n",
       "4                 100946  Can you get sick pay for COVID-19 if you work ...   \n",
       "\n",
       "                                                 url  upvote_ratio  \n",
       "0  https://www.reddit.com/r/antiwork/comments/fi6...           NaN  \n",
       "1  https://www.reddit.com/r/antiwork/comments/fi5...           NaN  \n",
       "2  https://www.leftvoice.org/italian-factory-work...           NaN  \n",
       "3  https://www.reddit.com/r/antiwork/comments/fi4...           NaN  \n",
       "4  https://www.reddit.com/r/antiwork/comments/fi4...           NaN  "
      ]
     },
     "execution_count": 28,
     "metadata": {},
     "output_type": "execute_result"
    }
   ],
   "source": [
    "df_2020.head()"
   ]
  },
  {
   "cell_type": "code",
   "execution_count": 30,
   "metadata": {},
   "outputs": [
    {
     "data": {
      "text/plain": [
       "(31002, 11)"
      ]
     },
     "execution_count": 30,
     "metadata": {},
     "output_type": "execute_result"
    }
   ],
   "source": [
    "df_2020.shape"
   ]
  },
  {
   "cell_type": "code",
   "execution_count": 32,
   "metadata": {},
   "outputs": [],
   "source": [
    "df_2021 = pd.read_csv('./data/submission_2021_df.csv')"
   ]
  },
  {
   "cell_type": "code",
   "execution_count": 33,
   "metadata": {},
   "outputs": [
    {
     "data": {
      "text/plain": [
       "(145658, 11)"
      ]
     },
     "execution_count": 33,
     "metadata": {},
     "output_type": "execute_result"
    }
   ],
   "source": [
    "df_2021.shape"
   ]
  },
  {
   "cell_type": "code",
   "execution_count": 35,
   "metadata": {},
   "outputs": [],
   "source": [
    "jan_2022 = pd.read_csv('./data/Jan_2022_submission_df.csv')\n",
    "feb_2022 = pd.read_csv('./data/Feb_2022_submission_df.csv')\n",
    "mar_2022 = pd.read_csv('./data/Mar_2022_submission_df.csv')\n",
    "apr_2022 = pd.read_csv('./data/Apr_2022_submission_df.csv')\n",
    "may_2022 = pd.read_csv('./data/May_2022_submission_df.csv')\n",
    "jun_2022 = pd.read_csv('./data/Jun_2022_submission_df.csv')\n",
    "jul_2022 = pd.read_csv('./data/Jul_2022_submission_df.csv')"
   ]
  },
  {
   "cell_type": "code",
   "execution_count": 36,
   "metadata": {},
   "outputs": [],
   "source": [
    "# Concatenate all the dataframes\n",
    "df_2022 = pd.concat([jan_2022, feb_2022, mar_2022, apr_2022, may_2022, jun_2022, jul_2022])"
   ]
  },
  {
   "cell_type": "code",
   "execution_count": 41,
   "metadata": {},
   "outputs": [],
   "source": [
    "# Datetime import\n",
    "from datetime import datetime\n",
    "# Convert created_utc to datetime\n",
    "df_2020['created'] = df_2020['created_utc'].apply(lambda x: datetime.utcfromtimestamp(x).strftime('%Y-%m-%d %H:%M:%S'))\n",
    "df_2021['created'] = df_2021['created_utc'].apply(lambda x: datetime.utcfromtimestamp(x).strftime('%Y-%m-%d %H:%M:%S'))\n",
    "df_2022['created'] = df_2022['created_utc'].apply(lambda x: datetime.utcfromtimestamp(x).strftime('%Y-%m-%d %H:%M:%S'))"
   ]
  },
  {
   "cell_type": "code",
   "execution_count": 44,
   "metadata": {},
   "outputs": [],
   "source": [
    "# Drop created_utc column in all the dataframes\n",
    "df_2020 = df_2020.drop(columns=['created_utc'])\n",
    "df_2021 = df_2021.drop(columns=['created_utc'])\n",
    "df_2022 = df_2022.drop(columns=['created_utc'])"
   ]
  },
  {
   "cell_type": "code",
   "execution_count": 45,
   "metadata": {},
   "outputs": [],
   "source": [
    "columns_to_remove = ['num_comments', 'score', 'author', 'subreddit_subscribers']"
   ]
  },
  {
   "cell_type": "code",
   "execution_count": 46,
   "metadata": {},
   "outputs": [],
   "source": [
    "# Drop columns_to_remove in all the dataframes\n",
    "df_2020 = df_2020.drop(columns=columns_to_remove)\n",
    "df_2021 = df_2021.drop(columns=columns_to_remove)\n",
    "df_2022 = df_2022.drop(columns=columns_to_remove)"
   ]
  },
  {
   "cell_type": "code",
   "execution_count": 49,
   "metadata": {},
   "outputs": [],
   "source": [
    "# Drop upvote_ratio column in all the dataframes\n",
    "df_2020 = df_2020.drop(columns=['upvote_ratio'])\n",
    "df_2021 = df_2021.drop(columns=['upvote_ratio'])\n",
    "df_2022 = df_2022.drop(columns=['upvote_ratio'])"
   ]
  },
  {
   "cell_type": "code",
   "execution_count": 59,
   "metadata": {},
   "outputs": [
    {
     "data": {
      "text/html": [
       "<div>\n",
       "<style scoped>\n",
       "    .dataframe tbody tr th:only-of-type {\n",
       "        vertical-align: middle;\n",
       "    }\n",
       "\n",
       "    .dataframe tbody tr th {\n",
       "        vertical-align: top;\n",
       "    }\n",
       "\n",
       "    .dataframe thead th {\n",
       "        text-align: right;\n",
       "    }\n",
       "</style>\n",
       "<table border=\"1\" class=\"dataframe\">\n",
       "  <thead>\n",
       "    <tr style=\"text-align: right;\">\n",
       "      <th></th>\n",
       "      <th>id</th>\n",
       "      <th>selftext</th>\n",
       "      <th>subreddit</th>\n",
       "      <th>title</th>\n",
       "      <th>url</th>\n",
       "      <th>created</th>\n",
       "    </tr>\n",
       "  </thead>\n",
       "  <tbody>\n",
       "    <tr>\n",
       "      <th>0</th>\n",
       "      <td>kpp82c</td>\n",
       "      <td>I find myself incredibly depressed during the ...</td>\n",
       "      <td>antiwork</td>\n",
       "      <td>After the holidays</td>\n",
       "      <td>https://www.reddit.com/r/antiwork/comments/kpp...</td>\n",
       "      <td>2021-01-03 17:58:59</td>\n",
       "    </tr>\n",
       "    <tr>\n",
       "      <th>1</th>\n",
       "      <td>kpo696</td>\n",
       "      <td>NaN</td>\n",
       "      <td>antiwork</td>\n",
       "      <td>My future</td>\n",
       "      <td>https://i.redd.it/6ju3i0kpf5961.jpg</td>\n",
       "      <td>2021-01-03 17:05:04</td>\n",
       "    </tr>\n",
       "    <tr>\n",
       "      <th>2</th>\n",
       "      <td>kpo23z</td>\n",
       "      <td>Whenever I am enjoying content about “eat the ...</td>\n",
       "      <td>antiwork</td>\n",
       "      <td>How do you respond to the “billionaires worked...</td>\n",
       "      <td>https://www.reddit.com/r/antiwork/comments/kpo...</td>\n",
       "      <td>2021-01-03 16:59:27</td>\n",
       "    </tr>\n",
       "    <tr>\n",
       "      <th>3</th>\n",
       "      <td>kpntb3</td>\n",
       "      <td>Not even kidding. I’m a medical transcriptioni...</td>\n",
       "      <td>antiwork</td>\n",
       "      <td>I finish my task at work in just an hour</td>\n",
       "      <td>https://www.reddit.com/r/antiwork/comments/kpn...</td>\n",
       "      <td>2021-01-03 16:46:12</td>\n",
       "    </tr>\n",
       "    <tr>\n",
       "      <th>4</th>\n",
       "      <td>kpnal4</td>\n",
       "      <td>im curious about what the world would be like ...</td>\n",
       "      <td>antiwork</td>\n",
       "      <td>why are ya'll anti work?</td>\n",
       "      <td>https://www.reddit.com/r/antiwork/comments/kpn...</td>\n",
       "      <td>2021-01-03 16:17:45</td>\n",
       "    </tr>\n",
       "  </tbody>\n",
       "</table>\n",
       "</div>"
      ],
      "text/plain": [
       "       id                                           selftext subreddit  \\\n",
       "0  kpp82c  I find myself incredibly depressed during the ...  antiwork   \n",
       "1  kpo696                                                NaN  antiwork   \n",
       "2  kpo23z  Whenever I am enjoying content about “eat the ...  antiwork   \n",
       "3  kpntb3  Not even kidding. I’m a medical transcriptioni...  antiwork   \n",
       "4  kpnal4  im curious about what the world would be like ...  antiwork   \n",
       "\n",
       "                                               title  \\\n",
       "0                                 After the holidays   \n",
       "1                                          My future   \n",
       "2  How do you respond to the “billionaires worked...   \n",
       "3           I finish my task at work in just an hour   \n",
       "4                           why are ya'll anti work?   \n",
       "\n",
       "                                                 url              created  \n",
       "0  https://www.reddit.com/r/antiwork/comments/kpp...  2021-01-03 17:58:59  \n",
       "1                https://i.redd.it/6ju3i0kpf5961.jpg  2021-01-03 17:05:04  \n",
       "2  https://www.reddit.com/r/antiwork/comments/kpo...  2021-01-03 16:59:27  \n",
       "3  https://www.reddit.com/r/antiwork/comments/kpn...  2021-01-03 16:46:12  \n",
       "4  https://www.reddit.com/r/antiwork/comments/kpn...  2021-01-03 16:17:45  "
      ]
     },
     "execution_count": 59,
     "metadata": {},
     "output_type": "execute_result"
    }
   ],
   "source": [
    "df_2021.head()"
   ]
  },
  {
   "cell_type": "code",
   "execution_count": 81,
   "metadata": {},
   "outputs": [
    {
     "data": {
      "text/html": [
       "<div>\n",
       "<style scoped>\n",
       "    .dataframe tbody tr th:only-of-type {\n",
       "        vertical-align: middle;\n",
       "    }\n",
       "\n",
       "    .dataframe tbody tr th {\n",
       "        vertical-align: top;\n",
       "    }\n",
       "\n",
       "    .dataframe thead th {\n",
       "        text-align: right;\n",
       "    }\n",
       "</style>\n",
       "<table border=\"1\" class=\"dataframe\">\n",
       "  <thead>\n",
       "    <tr style=\"text-align: right;\">\n",
       "      <th></th>\n",
       "      <th>id</th>\n",
       "      <th>selftext</th>\n",
       "      <th>subreddit</th>\n",
       "      <th>title</th>\n",
       "      <th>url</th>\n",
       "      <th>created</th>\n",
       "    </tr>\n",
       "  </thead>\n",
       "  <tbody>\n",
       "    <tr>\n",
       "      <th>76</th>\n",
       "      <td>kp048f</td>\n",
       "      <td>[removed]</td>\n",
       "      <td>antiwork</td>\n",
       "      <td>Maybe this can be of aid? :)</td>\n",
       "      <td>https://www.reddit.com/r/antiwork/comments/kp0...</td>\n",
       "      <td>2021-01-02 16:14:08</td>\n",
       "    </tr>\n",
       "    <tr>\n",
       "      <th>249</th>\n",
       "      <td>ktasa0</td>\n",
       "      <td>[removed]</td>\n",
       "      <td>antiwork</td>\n",
       "      <td>Make Money While Sitting In Home</td>\n",
       "      <td>https://www.reddit.com/r/antiwork/comments/kta...</td>\n",
       "      <td>2021-01-08 20:18:08</td>\n",
       "    </tr>\n",
       "    <tr>\n",
       "      <th>352</th>\n",
       "      <td>kvo3j2</td>\n",
       "      <td>[removed]</td>\n",
       "      <td>antiwork</td>\n",
       "      <td>If they can try to seize the Capitol building,...</td>\n",
       "      <td>https://www.reddit.com/r/antiwork/comments/kvo...</td>\n",
       "      <td>2021-01-12 08:59:20</td>\n",
       "    </tr>\n",
       "    <tr>\n",
       "      <th>509</th>\n",
       "      <td>l08u76</td>\n",
       "      <td>[removed]</td>\n",
       "      <td>antiwork</td>\n",
       "      <td>The solution most r/antiworkers have in mind i...</td>\n",
       "      <td>https://www.reddit.com/r/antiwork/comments/l08...</td>\n",
       "      <td>2021-01-19 01:22:47</td>\n",
       "    </tr>\n",
       "    <tr>\n",
       "      <th>662</th>\n",
       "      <td>l3ymaq</td>\n",
       "      <td>[removed]</td>\n",
       "      <td>antiwork</td>\n",
       "      <td>Easy and Verified Passive Income Sources</td>\n",
       "      <td>https://www.reddit.com/r/antiwork/comments/l3y...</td>\n",
       "      <td>2021-01-24 12:32:43</td>\n",
       "    </tr>\n",
       "    <tr>\n",
       "      <th>...</th>\n",
       "      <td>...</td>\n",
       "      <td>...</td>\n",
       "      <td>...</td>\n",
       "      <td>...</td>\n",
       "      <td>...</td>\n",
       "      <td>...</td>\n",
       "    </tr>\n",
       "    <tr>\n",
       "      <th>145552</th>\n",
       "      <td>rhuwmd</td>\n",
       "      <td>[removed]</td>\n",
       "      <td>antiwork</td>\n",
       "      <td>I earn 3 $ an hour and would go to prison if I...</td>\n",
       "      <td>https://www.reddit.com/r/antiwork/comments/rhu...</td>\n",
       "      <td>2021-12-16 16:58:14</td>\n",
       "    </tr>\n",
       "    <tr>\n",
       "      <th>145554</th>\n",
       "      <td>rhuwbt</td>\n",
       "      <td>[removed]</td>\n",
       "      <td>antiwork</td>\n",
       "      <td>Way too long comparison between working condit...</td>\n",
       "      <td>https://www.reddit.com/r/antiwork/comments/rhu...</td>\n",
       "      <td>2021-12-16 16:57:51</td>\n",
       "    </tr>\n",
       "    <tr>\n",
       "      <th>145559</th>\n",
       "      <td>rhusyn</td>\n",
       "      <td>[removed]</td>\n",
       "      <td>antiwork</td>\n",
       "      <td>Who else is finessing the fuck out of their CV...</td>\n",
       "      <td>https://www.reddit.com/r/antiwork/comments/rhu...</td>\n",
       "      <td>2021-12-16 16:53:10</td>\n",
       "    </tr>\n",
       "    <tr>\n",
       "      <th>145573</th>\n",
       "      <td>rhufa9</td>\n",
       "      <td>[removed]</td>\n",
       "      <td>antiwork</td>\n",
       "      <td>Boss jokingly threatened me</td>\n",
       "      <td>https://www.reddit.com/r/antiwork/comments/rhu...</td>\n",
       "      <td>2021-12-16 16:34:24</td>\n",
       "    </tr>\n",
       "    <tr>\n",
       "      <th>145630</th>\n",
       "      <td>ril3ft</td>\n",
       "      <td>[removed]</td>\n",
       "      <td>antiwork</td>\n",
       "      <td>Hours in Work Week Question</td>\n",
       "      <td>https://www.reddit.com/r/antiwork/comments/ril...</td>\n",
       "      <td>2021-12-17 16:27:55</td>\n",
       "    </tr>\n",
       "  </tbody>\n",
       "</table>\n",
       "<p>3361 rows × 6 columns</p>\n",
       "</div>"
      ],
      "text/plain": [
       "            id   selftext subreddit  \\\n",
       "76      kp048f  [removed]  antiwork   \n",
       "249     ktasa0  [removed]  antiwork   \n",
       "352     kvo3j2  [removed]  antiwork   \n",
       "509     l08u76  [removed]  antiwork   \n",
       "662     l3ymaq  [removed]  antiwork   \n",
       "...        ...        ...       ...   \n",
       "145552  rhuwmd  [removed]  antiwork   \n",
       "145554  rhuwbt  [removed]  antiwork   \n",
       "145559  rhusyn  [removed]  antiwork   \n",
       "145573  rhufa9  [removed]  antiwork   \n",
       "145630  ril3ft  [removed]  antiwork   \n",
       "\n",
       "                                                    title  \\\n",
       "76                           Maybe this can be of aid? :)   \n",
       "249                      Make Money While Sitting In Home   \n",
       "352     If they can try to seize the Capitol building,...   \n",
       "509     The solution most r/antiworkers have in mind i...   \n",
       "662              Easy and Verified Passive Income Sources   \n",
       "...                                                   ...   \n",
       "145552  I earn 3 $ an hour and would go to prison if I...   \n",
       "145554  Way too long comparison between working condit...   \n",
       "145559  Who else is finessing the fuck out of their CV...   \n",
       "145573                        Boss jokingly threatened me   \n",
       "145630                        Hours in Work Week Question   \n",
       "\n",
       "                                                      url              created  \n",
       "76      https://www.reddit.com/r/antiwork/comments/kp0...  2021-01-02 16:14:08  \n",
       "249     https://www.reddit.com/r/antiwork/comments/kta...  2021-01-08 20:18:08  \n",
       "352     https://www.reddit.com/r/antiwork/comments/kvo...  2021-01-12 08:59:20  \n",
       "509     https://www.reddit.com/r/antiwork/comments/l08...  2021-01-19 01:22:47  \n",
       "662     https://www.reddit.com/r/antiwork/comments/l3y...  2021-01-24 12:32:43  \n",
       "...                                                   ...                  ...  \n",
       "145552  https://www.reddit.com/r/antiwork/comments/rhu...  2021-12-16 16:58:14  \n",
       "145554  https://www.reddit.com/r/antiwork/comments/rhu...  2021-12-16 16:57:51  \n",
       "145559  https://www.reddit.com/r/antiwork/comments/rhu...  2021-12-16 16:53:10  \n",
       "145573  https://www.reddit.com/r/antiwork/comments/rhu...  2021-12-16 16:34:24  \n",
       "145630  https://www.reddit.com/r/antiwork/comments/ril...  2021-12-17 16:27:55  \n",
       "\n",
       "[3361 rows x 6 columns]"
      ]
     },
     "execution_count": 81,
     "metadata": {},
     "output_type": "execute_result"
    }
   ],
   "source": [
    "df_2021[df_2021['selftext']==\"[removed]\"]"
   ]
  },
  {
   "cell_type": "code",
   "execution_count": 89,
   "metadata": {},
   "outputs": [
    {
     "name": "stdout",
     "output_type": "stream",
     "text": [
      "1032\n",
      "186012\n"
     ]
    }
   ],
   "source": [
    "print(df_2020[df_2020['selftext']==\"[removed]\"].size)\n",
    "print(df_2020.size)"
   ]
  },
  {
   "cell_type": "code",
   "execution_count": 90,
   "metadata": {},
   "outputs": [
    {
     "name": "stdout",
     "output_type": "stream",
     "text": [
      "20166\n",
      "873948\n"
     ]
    }
   ],
   "source": [
    "print(df_2021[df_2021['selftext']==\"[removed]\"].size)\n",
    "print(df_2021.size)"
   ]
  },
  {
   "cell_type": "code",
   "execution_count": 91,
   "metadata": {},
   "outputs": [
    {
     "name": "stdout",
     "output_type": "stream",
     "text": [
      "87312\n",
      "908154\n"
     ]
    }
   ],
   "source": [
    "print(df_2022[df_2022['selftext']==\"[removed]\"].size)\n",
    "print(df_2022.size)"
   ]
  },
  {
   "cell_type": "code",
   "execution_count": 93,
   "metadata": {},
   "outputs": [],
   "source": [
    "# Drop rows with \"[removed]\" in selftext\n",
    "df_2020 = df_2020[df_2020['selftext']!=\"[removed]\"]\n",
    "df_2021 = df_2021[df_2021['selftext']!=\"[removed]\"]\n",
    "df_2022 = df_2022[df_2022['selftext']!=\"[removed]\"]"
   ]
  },
  {
   "cell_type": "code",
   "execution_count": 95,
   "metadata": {},
   "outputs": [
    {
     "data": {
      "text/plain": [
       "id               0\n",
       "selftext     16652\n",
       "subreddit        0\n",
       "title            0\n",
       "url              0\n",
       "created          0\n",
       "dtype: int64"
      ]
     },
     "execution_count": 95,
     "metadata": {},
     "output_type": "execute_result"
    }
   ],
   "source": [
    "df_2020.isna().sum()"
   ]
  },
  {
   "cell_type": "code",
   "execution_count": 96,
   "metadata": {},
   "outputs": [
    {
     "data": {
      "text/plain": [
       "id               0\n",
       "selftext     75555\n",
       "subreddit        0\n",
       "title            0\n",
       "url              0\n",
       "created          0\n",
       "dtype: int64"
      ]
     },
     "execution_count": 96,
     "metadata": {},
     "output_type": "execute_result"
    }
   ],
   "source": [
    "df_2021.isna().sum()"
   ]
  },
  {
   "cell_type": "code",
   "execution_count": 97,
   "metadata": {},
   "outputs": [
    {
     "data": {
      "text/plain": [
       "id               0\n",
       "selftext     73587\n",
       "subreddit        0\n",
       "title            0\n",
       "url              0\n",
       "created          0\n",
       "dtype: int64"
      ]
     },
     "execution_count": 97,
     "metadata": {},
     "output_type": "execute_result"
    }
   ],
   "source": [
    "df_2022.isna().sum()"
   ]
  },
  {
   "cell_type": "code",
   "execution_count": 98,
   "metadata": {},
   "outputs": [
    {
     "data": {
      "text/plain": [
       "id                0\n",
       "selftext     165794\n",
       "subreddit         0\n",
       "title             0\n",
       "url               0\n",
       "created           0\n",
       "dtype: int64"
      ]
     },
     "execution_count": 98,
     "metadata": {},
     "output_type": "execute_result"
    }
   ],
   "source": [
    "df_2020.isna().sum() + df_2021.isna().sum() + df_2022.isna().sum()"
   ]
  },
  {
   "cell_type": "code",
   "execution_count": 99,
   "metadata": {},
   "outputs": [
    {
     "data": {
      "text/plain": [
       "1859604"
      ]
     },
     "execution_count": 99,
     "metadata": {},
     "output_type": "execute_result"
    }
   ],
   "source": [
    "df_2020.size + df_2021.size + df_2022.size"
   ]
  },
  {
   "cell_type": "code",
   "execution_count": 102,
   "metadata": {},
   "outputs": [],
   "source": [
    "# Export dataframe to csv\n",
    "df_2020.to_csv('data/combined/antiwork_2020_images.csv', index=False)\n",
    "df_2021.to_csv('data/combined/antiwork_2021_images.csv', index=False)\n",
    "df_2022.to_csv('data/combined/antiwork_2022_images.csv', index=False)"
   ]
  },
  {
   "cell_type": "code",
   "execution_count": 103,
   "metadata": {},
   "outputs": [],
   "source": [
    "# Concatenate all the dataframes\n",
    "all_df = pd.concat([df_2020, df_2021, df_2022])\n",
    "all_df.head()\n",
    "# Export dataframe to csv\n",
    "all_df.to_csv('data/combined/antiwork_all_images.csv', index=False)"
   ]
  },
  {
   "cell_type": "code",
   "execution_count": 104,
   "metadata": {},
   "outputs": [
    {
     "data": {
      "text/html": [
       "<div>\n",
       "<style scoped>\n",
       "    .dataframe tbody tr th:only-of-type {\n",
       "        vertical-align: middle;\n",
       "    }\n",
       "\n",
       "    .dataframe tbody tr th {\n",
       "        vertical-align: top;\n",
       "    }\n",
       "\n",
       "    .dataframe thead th {\n",
       "        text-align: right;\n",
       "    }\n",
       "</style>\n",
       "<table border=\"1\" class=\"dataframe\">\n",
       "  <thead>\n",
       "    <tr style=\"text-align: right;\">\n",
       "      <th></th>\n",
       "      <th>id</th>\n",
       "      <th>selftext</th>\n",
       "      <th>subreddit</th>\n",
       "      <th>title</th>\n",
       "      <th>url</th>\n",
       "      <th>created</th>\n",
       "    </tr>\n",
       "  </thead>\n",
       "  <tbody>\n",
       "    <tr>\n",
       "      <th>0</th>\n",
       "      <td>fi61cq</td>\n",
       "      <td>for the love of all that is holy, we need to m...</td>\n",
       "      <td>antiwork</td>\n",
       "      <td>a little rant on shopping etc</td>\n",
       "      <td>https://www.reddit.com/r/antiwork/comments/fi6...</td>\n",
       "      <td>2020-03-13 20:16:13</td>\n",
       "    </tr>\n",
       "    <tr>\n",
       "      <th>1</th>\n",
       "      <td>fi5fuj</td>\n",
       "      <td>Big /S of course. \\n\\nMy boss just wrote a big...</td>\n",
       "      <td>antiwork</td>\n",
       "      <td>Praise be to the benevolent capitalist god!</td>\n",
       "      <td>https://www.reddit.com/r/antiwork/comments/fi5...</td>\n",
       "      <td>2020-03-13 19:39:11</td>\n",
       "    </tr>\n",
       "    <tr>\n",
       "      <th>2</th>\n",
       "      <td>fi5ev9</td>\n",
       "      <td>NaN</td>\n",
       "      <td>antiwork</td>\n",
       "      <td>Italian Factory Workers Go on Strike for Coron...</td>\n",
       "      <td>https://www.leftvoice.org/italian-factory-work...</td>\n",
       "      <td>2020-03-13 19:37:25</td>\n",
       "    </tr>\n",
       "    <tr>\n",
       "      <th>3</th>\n",
       "      <td>fi4t2k</td>\n",
       "      <td>My job makes me stressed, anxious, tired, and ...</td>\n",
       "      <td>antiwork</td>\n",
       "      <td>How to not let it get to me?</td>\n",
       "      <td>https://www.reddit.com/r/antiwork/comments/fi4...</td>\n",
       "      <td>2020-03-13 19:00:22</td>\n",
       "    </tr>\n",
       "    <tr>\n",
       "      <th>4</th>\n",
       "      <td>fi48w3</td>\n",
       "      <td>I was wondering if you can get the SSP (£94.25...</td>\n",
       "      <td>antiwork</td>\n",
       "      <td>Can you get sick pay for COVID-19 if you work ...</td>\n",
       "      <td>https://www.reddit.com/r/antiwork/comments/fi4...</td>\n",
       "      <td>2020-03-13 18:25:51</td>\n",
       "    </tr>\n",
       "  </tbody>\n",
       "</table>\n",
       "</div>"
      ],
      "text/plain": [
       "       id                                           selftext subreddit  \\\n",
       "0  fi61cq  for the love of all that is holy, we need to m...  antiwork   \n",
       "1  fi5fuj  Big /S of course. \\n\\nMy boss just wrote a big...  antiwork   \n",
       "2  fi5ev9                                                NaN  antiwork   \n",
       "3  fi4t2k  My job makes me stressed, anxious, tired, and ...  antiwork   \n",
       "4  fi48w3  I was wondering if you can get the SSP (£94.25...  antiwork   \n",
       "\n",
       "                                               title  \\\n",
       "0                      a little rant on shopping etc   \n",
       "1        Praise be to the benevolent capitalist god!   \n",
       "2  Italian Factory Workers Go on Strike for Coron...   \n",
       "3                       How to not let it get to me?   \n",
       "4  Can you get sick pay for COVID-19 if you work ...   \n",
       "\n",
       "                                                 url              created  \n",
       "0  https://www.reddit.com/r/antiwork/comments/fi6...  2020-03-13 20:16:13  \n",
       "1  https://www.reddit.com/r/antiwork/comments/fi5...  2020-03-13 19:39:11  \n",
       "2  https://www.leftvoice.org/italian-factory-work...  2020-03-13 19:37:25  \n",
       "3  https://www.reddit.com/r/antiwork/comments/fi4...  2020-03-13 19:00:22  \n",
       "4  https://www.reddit.com/r/antiwork/comments/fi4...  2020-03-13 18:25:51  "
      ]
     },
     "execution_count": 104,
     "metadata": {},
     "output_type": "execute_result"
    }
   ],
   "source": [
    "all_df.head()"
   ]
  },
  {
   "cell_type": "code",
   "execution_count": 105,
   "metadata": {},
   "outputs": [],
   "source": [
    "df_2020_no_image = df_2020.copy()\n",
    "df_2021_no_image = df_2021.copy()\n",
    "df_2022_no_image = df_2022.copy()"
   ]
  },
  {
   "cell_type": "code",
   "execution_count": 106,
   "metadata": {},
   "outputs": [],
   "source": [
    "# Drop na values in selftext in all the dataframes\n",
    "df_2020_no_image = df_2020_no_image.dropna(subset=['selftext'])\n",
    "df_2021_no_image = df_2021_no_image.dropna(subset=['selftext'])\n",
    "df_2022_no_image = df_2022_no_image.dropna(subset=['selftext'])"
   ]
  },
  {
   "cell_type": "code",
   "execution_count": 108,
   "metadata": {},
   "outputs": [],
   "source": [
    "# Export dataframe to csv\n",
    "df_2020_no_image.to_csv('data/combined/antiwork_2020_no_image.csv', index=False)\n",
    "df_2021_no_image.to_csv('data/combined/antiwork_2021_no_image.csv', index=False)\n",
    "df_2022_no_image.to_csv('data/combined/antiwork_2022_no_image.csv', index=False)"
   ]
  },
  {
   "cell_type": "code",
   "execution_count": 109,
   "metadata": {},
   "outputs": [],
   "source": [
    "# Concatenate all the dataframes\n",
    "all_df_no_image = pd.concat([df_2020_no_image, df_2021_no_image, df_2022_no_image])"
   ]
  },
  {
   "cell_type": "code",
   "execution_count": 110,
   "metadata": {},
   "outputs": [],
   "source": [
    "# Export dataframe to csv\n",
    "all_df_no_image.to_csv('data/combined/antiwork_all_no_image.csv', index=False)"
   ]
  },
  {
   "cell_type": "code",
   "execution_count": null,
   "metadata": {},
   "outputs": [],
   "source": []
  }
 ],
 "metadata": {
  "kernelspec": {
   "display_name": "Python 3 (ipykernel)",
   "language": "python",
   "name": "python3"
  },
  "language_info": {
   "codemirror_mode": {
    "name": "ipython",
    "version": 3
   },
   "file_extension": ".py",
   "mimetype": "text/x-python",
   "name": "python",
   "nbconvert_exporter": "python",
   "pygments_lexer": "ipython3",
   "version": "3.9.12"
  },
  "vscode": {
   "interpreter": {
    "hash": "7c68699890cd1869885a41d08e48385628aade1eb52ad172109298cf9d071a7d"
   }
  }
 },
 "nbformat": 4,
 "nbformat_minor": 2
}
